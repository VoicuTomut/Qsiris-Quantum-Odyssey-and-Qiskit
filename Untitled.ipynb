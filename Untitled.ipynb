{
 "cells": [
  {
   "cell_type": "code",
   "execution_count": 1,
   "id": "a5b0bcb9",
   "metadata": {},
   "outputs": [],
   "source": [
    "import numpy as np "
   ]
  },
  {
   "cell_type": "code",
   "execution_count": 2,
   "id": "c2c0b27f",
   "metadata": {},
   "outputs": [],
   "source": [
    "a='Ctrl'"
   ]
  },
  {
   "cell_type": "code",
   "execution_count": 11,
   "id": "7b1ec811",
   "metadata": {},
   "outputs": [
    {
     "data": {
      "text/plain": [
       "array([[1.+0.j, 0.+0.j, 0.+0.j, 0.+0.j, 0.+0.j],\n",
       "       [0.+0.j, 1.+0.j, 0.+0.j, 0.+0.j, 0.+0.j],\n",
       "       [0.+0.j, 0.+0.j, 1.+0.j, 0.+0.j, 0.+0.j],\n",
       "       [0.+0.j, 0.+0.j, 0.+0.j, 1.+0.j, 0.+0.j],\n",
       "       [0.+0.j, 0.+0.j, 0.+0.j, 0.+0.j, 1.+0.j]])"
      ]
     },
     "execution_count": 11,
     "metadata": {},
     "output_type": "execute_result"
    }
   ],
   "source": [
    "a=[[]]\n",
    "b=[[]]\n",
    "#np.kron()\n",
    "np.identity(5,complex)"
   ]
  },
  {
   "cell_type": "code",
   "execution_count": 13,
   "id": "5ae0d9ff",
   "metadata": {},
   "outputs": [],
   "source": [
    "fname = 'generated_qiskit_file.py'\n",
    "file_object = open(fname, 'w')\n",
    "\n",
    "# import \n",
    "file_object.write('import numpy as np')\n",
    "file_object.write('from qiskit import QuantumCircuit')\n",
    "\n",
    "\n",
    "\n",
    "file_object.close()"
   ]
  },
  {
   "cell_type": "code",
   "execution_count": 17,
   "id": "ce9bde03",
   "metadata": {},
   "outputs": [
    {
     "data": {
      "image/png": "[encoded data removed]",
      "text/plain": [
       "<Figure size 220.123x204.68 with 1 Axes>"
      ]
     },
     "execution_count": 17,
     "metadata": {},
     "output_type": "execute_result"
    }
   ],
   "source": [
    "import numpy as np \n",
    "from qiskit import QuantumCircuit,QuantumRegister,ClassicalRegister\n",
    "\n",
    "nr_q=2 \n",
    "qc = QuantumCircuit(QuantumRegister(2), ClassicalRegister(2))\n",
    "qc.measure(qc.qregs[0][0], qc.cregs[0][1]) \n",
    "qc.measure(qc.qregs[0][1], qc.cregs[0][0]) \n",
    "\n",
    "\n",
    "qc.draw('mpl')"
   ]
  },
  {
   "cell_type": "code",
   "execution_count": 18,
   "id": "18b56042",
   "metadata": {},
   "outputs": [
    {
     "name": "stdout",
     "output_type": "stream",
     "text": [
      "qc.x(7) \n",
      "\n"
     ]
    }
   ],
   "source": [
    "a='qc.x({}) \\n'.format(7)\n",
    "print(a)"
   ]
  },
  {
   "cell_type": "code",
   "execution_count": 19,
   "id": "36d3b93c",
   "metadata": {},
   "outputs": [
    {
     "data": {
      "image/png": "[encoded data removed]",
      "text/plain": [
       "<Figure size 220.123x204.68 with 1 Axes>"
      ]
     },
     "execution_count": 19,
     "metadata": {},
     "output_type": "execute_result"
    }
   ],
   "source": [
    "import numpy as np \n",
    "from qiskit import QuantumCircuit,QuantumRegister,ClassicalRegister \n",
    " \n",
    "nr_q={} \n",
    "qc = QuantumCircuit(QuantumRegister(2), ClassicalRegister(2)) \n",
    " \n",
    "qc.measure(qc.qregs[0][0], qc.cregs[0][1]) \n",
    "qc.measure(qc.qregs[0][1], qc.cregs[0][0]) \n",
    "\n",
    "qc.draw('mpl')"
   ]
  },
  {
   "cell_type": "code",
   "execution_count": 22,
   "id": "262a75eb",
   "metadata": {},
   "outputs": [
    {
     "ename": "NameError",
     "evalue": "name 'qubits' is not defined",
     "output_type": "error",
     "traceback": [
      "\u001b[0;31m---------------------------------------------------------------------------\u001b[0m",
      "\u001b[0;31mNameError\u001b[0m                                 Traceback (most recent call last)",
      "\u001b[0;32m<ipython-input-22-82eb888bc0ca>\u001b[0m in \u001b[0;36m<module>\u001b[0;34m\u001b[0m\n\u001b[1;32m     11\u001b[0m        [1.+0.j, 0.+0.j]]) \n\u001b[1;32m     12\u001b[0m \u001b[0mname\u001b[0m\u001b[0;34m=\u001b[0m\u001b[0;34m\"c_x_0_\"\u001b[0m\u001b[0;34m\u001b[0m\u001b[0;34m\u001b[0m\u001b[0m\n\u001b[0;32m---> 13\u001b[0;31m \u001b[0mqc\u001b[0m\u001b[0;34m.\u001b[0m\u001b[0munitary\u001b[0m\u001b[0;34m(\u001b[0m\u001b[0munit\u001b[0m\u001b[0;34m,\u001b[0m\u001b[0mqubits\u001b[0m\u001b[0;34m[\u001b[0m\u001b[0;34m:\u001b[0m\u001b[0;34m:\u001b[0m\u001b[0;34m-\u001b[0m\u001b[0;36m1\u001b[0m\u001b[0;34m]\u001b[0m\u001b[0;34m,\u001b[0m\u001b[0mname\u001b[0m\u001b[0;34m)\u001b[0m\u001b[0;34m\u001b[0m\u001b[0;34m\u001b[0m\u001b[0m\n\u001b[0m\u001b[1;32m     14\u001b[0m unit=array([[ 1.        +0.j,  0.        +0.j,  0.        +0.j,\n\u001b[1;32m     15\u001b[0m          0.        +0.j],\n",
      "\u001b[0;31mNameError\u001b[0m: name 'qubits' is not defined"
     ]
    }
   ],
   "source": [
    "import numpy as np \n",
    "from numpy import array\n",
    "from qiskit import QuantumCircuit,QuantumRegister,ClassicalRegister \n",
    " \n",
    "nr_q=2 \n",
    "qc = QuantumCircuit(QuantumRegister(2), ClassicalRegister(2)) \n",
    " \n",
    "qc.x(0) \n",
    "qc.id(1) \n",
    "unit=array([[0.+0.j, 1.+0.j],\n",
    "       [1.+0.j, 0.+0.j]]) \n",
    "name=\"c_x_0_\" \n",
    "qc.unitary(unit,qubits[::-1],name) \n",
    "unit=array([[ 1.        +0.j,  0.        +0.j,  0.        +0.j,\n",
    "         0.        +0.j],\n",
    "       [ 0.        +0.j,  1.        +0.j,  0.        +0.j,\n",
    "         0.        +0.j],\n",
    "       [ 0.        +0.j,  0.        +0.j,  0.70710679+0.j,\n",
    "         0.70710679+0.j],\n",
    "       [ 0.        +0.j,  0.        +0.j,  0.70710679+0.j,\n",
    "        -0.70710679+0.j]]) \n",
    "name=\"c_0_h_1_\" \n",
    "qc.unitary(unit,qubits[::-1],name) \n",
    "qc.measure(qc.qregs[0][0], qc.cregs[0][1]) \n",
    "qc.measure(qc.qregs[0][1], qc.cregs[0][0]) "
   ]
  },
  {
   "cell_type": "code",
   "execution_count": 30,
   "id": "221fb5f3",
   "metadata": {},
   "outputs": [
    {
     "data": {
      "image/png": "[encoded data removed]",
      "text/plain": [
       "<Figure size 413.995x204.68 with 1 Axes>"
      ]
     },
     "execution_count": 30,
     "metadata": {},
     "output_type": "execute_result"
    }
   ],
   "source": [
    "from qiskit import Aer, execute\n",
    "from qiskit.visualization import plot_histogram\n",
    "\n",
    "import numpy as np \n",
    "from qiskit import QuantumCircuit,QuantumRegister,ClassicalRegister \n",
    " \n",
    "nr_q=2 \n",
    "qc = QuantumCircuit(QuantumRegister(2), ClassicalRegister(2)) \n",
    " \n",
    "qc.x(0) \n",
    "qc.id(1) \n",
    "unit=array([[ 1.        +0.j,  0.        +0.j,  0.        +0.j,\n",
    "         0.        +0.j],\n",
    "       [ 0.        +0.j,  1.        +0.j,  0.        +0.j,\n",
    "         0.        +0.j],\n",
    "       [ 0.        +0.j,  0.        +0.j,  0.70710679+0.j,\n",
    "         0.70710679+0.j],\n",
    "       [ 0.        +0.j,  0.        +0.j,  0.70710679+0.j,\n",
    "        -0.70710679+0.j]]) \n",
    "qubits=[0, 1] \n",
    "name=\"c_0_h_1_\" \n",
    "qc.unitary(unit,qubits[::-1],name) \n",
    "qc.measure(qc.qregs[0][0], qc.cregs[0][1]) \n",
    "qc.measure(qc.qregs[0][1], qc.cregs[0][0]) \n",
    "\n",
    "\n",
    "qc.draw('mpl')"
   ]
  },
  {
   "cell_type": "code",
   "execution_count": 31,
   "id": "24c5f737",
   "metadata": {},
   "outputs": [
    {
     "data": {
      "image/png": "[encoded data removed]",
      "text/plain": [
       "<Figure size 504x360 with 1 Axes>"
      ]
     },
     "execution_count": 31,
     "metadata": {},
     "output_type": "execute_result"
    }
   ],
   "source": [
    "backend = Aer.get_backend('qasm_simulator')\n",
    "job = execute(qc, backend,shots=1000)\n",
    "result = job.result()\n",
    "counts = result.get_counts()\n",
    "plot_histogram(counts)"
   ]
  },
  {
   "cell_type": "code",
   "execution_count": null,
   "id": "40f2af77",
   "metadata": {},
   "outputs": [],
   "source": []
  }
 ],
 "metadata": {
  "kernelspec": {
   "display_name": "Python 3",
   "language": "python",
   "name": "python3"
  },
  "language_info": {
   "codemirror_mode": {
    "name": "ipython",
    "version": 3
   },
   "file_extension": ".py",
   "mimetype": "text/x-python",
   "name": "python",
   "nbconvert_exporter": "python",
   "pygments_lexer": "ipython3",
   "version": "3.8.8"
  }
 },
 "nbformat": 4,
 "nbformat_minor": 5
}
