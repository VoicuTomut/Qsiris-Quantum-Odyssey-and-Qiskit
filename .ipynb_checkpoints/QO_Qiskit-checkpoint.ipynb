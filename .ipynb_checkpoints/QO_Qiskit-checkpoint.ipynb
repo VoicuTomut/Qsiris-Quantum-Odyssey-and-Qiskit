{
 "cells": [
  {
   "cell_type": "code",
   "execution_count": 1,
   "id": "female-consortium",
   "metadata": {},
   "outputs": [],
   "source": [
    "## Trebuie inversataa ordinea momentelor "
   ]
  },
  {
   "cell_type": "code",
   "execution_count": 2,
   "id": "792b6f80",
   "metadata": {},
   "outputs": [],
   "source": [
    "#!pip install 'qiskit[visualization]'"
   ]
  },
  {
   "cell_type": "code",
   "execution_count": 3,
   "id": "english-basic",
   "metadata": {},
   "outputs": [],
   "source": [
    "from qiskit import QuantumCircuit, transpile\n",
    "from qiskit import Aer, execute\n",
    "from qiskit import IBMQ\n",
    "\n",
    "import numpy as np \n",
    "import cmath \n",
    "\n",
    "import json"
   ]
  },
  {
   "cell_type": "code",
   "execution_count": 4,
   "id": "7ca680ca",
   "metadata": {},
   "outputs": [],
   "source": [
    "from conversion_qo_qiskit import *"
   ]
  },
  {
   "cell_type": "code",
   "execution_count": 5,
   "id": "presidential-employer",
   "metadata": {},
   "outputs": [],
   "source": [
    "path=\"asdasd.qpf\"#\"/Users/voicutu/Documents/PuzzleContainer/Custom/GROVER/GROVER-14-14.qpf\""
   ]
  },
  {
   "cell_type": "code",
   "execution_count": 6,
   "id": "general-lithuania",
   "metadata": {},
   "outputs": [],
   "source": [
    "file = open(path, \"r\")\n",
    "content= file.read()\n",
    "res = json.loads(content)"
   ]
  },
  {
   "cell_type": "code",
   "execution_count": 7,
   "id": "severe-pharmaceutical",
   "metadata": {},
   "outputs": [
    {
     "data": {
      "text/plain": [
       "dict_keys(['PuzzleDefinition', 'PuzzleGates', 'AvailableGates', 'Tooltips'])"
      ]
     },
     "execution_count": 7,
     "metadata": {},
     "output_type": "execute_result"
    }
   ],
   "source": [
    "res = json.loads(content)\n",
    "res.keys()"
   ]
  },
  {
   "cell_type": "code",
   "execution_count": 8,
   "id": "threatened-azerbaijan",
   "metadata": {},
   "outputs": [
    {
     "name": "stdout",
     "output_type": "stream",
     "text": [
      "3\n"
     ]
    }
   ],
   "source": [
    "nr_q=get_nr_q(res)\n",
    "initial_state=get_statevector(res['PuzzleDefinition']['FinalState'])\n",
    "print(nr_q)"
   ]
  },
  {
   "cell_type": "code",
   "execution_count": 9,
   "id": "collect-sleep",
   "metadata": {},
   "outputs": [],
   "source": [
    "qc=QuantumCircuit(nr_q,nr_q)\n",
    "\n",
    "add_gates(res,qc,barrier=True)\n",
    "\n",
    "a=qc.draw('mpl')"
   ]
  },
  {
   "cell_type": "code",
   "execution_count": 10,
   "id": "0df0c2f5",
   "metadata": {},
   "outputs": [
    {
     "data": {
      "image/png": "[encoded data removed]",
      "text/plain": [
       "<Figure size 688.597x264.88 with 1 Axes>"
      ]
     },
     "execution_count": 10,
     "metadata": {},
     "output_type": "execute_result"
    }
   ],
   "source": [
    "a"
   ]
  },
  {
   "cell_type": "code",
   "execution_count": null,
   "id": "e7ad35f3",
   "metadata": {},
   "outputs": [],
   "source": []
  },
  {
   "cell_type": "code",
   "execution_count": 11,
   "id": "arabic-chicken",
   "metadata": {},
   "outputs": [
    {
     "name": "stdout",
     "output_type": "stream",
     "text": [
      "[[ 0.+0.5j -0.-0.5j  0.-0.5j  0.+0.5j  0.+0.j   0.+0.j   0.+0.j   0.+0.j ]\n",
      " [ 0.+0.5j  0.+0.5j  0.-0.5j -0.-0.5j  0.+0.j   0.+0.j   0.+0.j   0.+0.j ]\n",
      " [-0.-0.5j  0.+0.5j  0.-0.5j  0.+0.5j  0.+0.j   0.+0.j   0.+0.j   0.+0.j ]\n",
      " [-0.-0.5j -0.-0.5j  0.-0.5j -0.-0.5j  0.+0.j   0.+0.j   0.+0.j   0.+0.j ]\n",
      " [ 0.+0.j   0.+0.j   0.+0.j   0.+0.j   0.+0.5j -0.-0.5j  0.-0.5j  0.+0.5j]\n",
      " [ 0.+0.j   0.+0.j   0.+0.j   0.+0.j   0.+0.5j  0.+0.5j  0.-0.5j -0.-0.5j]\n",
      " [ 0.+0.j   0.+0.j   0.+0.j   0.+0.j  -0.-0.5j  0.+0.5j  0.-0.5j  0.+0.5j]\n",
      " [ 0.+0.j   0.+0.j   0.+0.j   0.+0.j  -0.-0.5j -0.-0.5j  0.-0.5j -0.-0.5j]]\n"
     ]
    }
   ],
   "source": [
    "backend = Aer.get_backend('unitary_simulator')\n",
    "job = execute(qc, backend)\n",
    "result = job.result()\n",
    "print(result.get_unitary(qc, decimals=3))"
   ]
  },
  {
   "cell_type": "code",
   "execution_count": 12,
   "id": "dietary-sarah",
   "metadata": {},
   "outputs": [
    {
     "data": {
      "image/png": "[encoded data removed]",
      "text/plain": [
       "<Figure size 688.597x264.88 with 1 Axes>"
      ]
     },
     "execution_count": 12,
     "metadata": {},
     "output_type": "execute_result"
    }
   ],
   "source": [
    "backend = Aer.get_backend('qasm_simulator')\n",
    "result = transpile(qc, backend=backend, optimization_level=3)\n",
    "result.draw(output='mpl')"
   ]
  },
  {
   "cell_type": "code",
   "execution_count": 13,
   "id": "infrared-sally",
   "metadata": {},
   "outputs": [
    {
     "data": {
      "text/html": [
       "<pre style=\"word-wrap: normal;white-space: pre;background: #fff0;line-height: 1.1;font-family: &quot;Courier New&quot;,Courier,monospace\">     ┌──────────┐\n",
       "q_0: ┤0         ├\n",
       "     │  unitary │\n",
       "q_1: ┤1         ├\n",
       "     └──────────┘</pre>"
      ],
      "text/plain": [
       "     ┌──────────┐\n",
       "q_0: ┤0         ├\n",
       "     │  unitary │\n",
       "q_1: ┤1         ├\n",
       "     └──────────┘"
      ]
     },
     "execution_count": 13,
     "metadata": {},
     "output_type": "execute_result"
    }
   ],
   "source": [
    "# Problema cu prrecizia la porti\n",
    "\n",
    "unit=[[ 1.+0.j,  0.+0.j,  0.+0.j,  0.+0.j],\n",
    "      [ 0.+0.j,  1.+0.j,  0.+0.j,  0.+0.j],\n",
    "      [ 0.+0.j,  0.+0.j,  np.sqrt(1/2)+0.j,  np.sqrt(1/2)+0.j],#0.70710679+0.j,  0.70710679+0.j],\n",
    "      [ 0.+0.j,  0.+0.j,  np.sqrt(1/2)+0.j,  -np.sqrt(1/2)+0.j],]#0.70710679+0.j, -0.70710679+0.j],]\n",
    "\n",
    "\n",
    "qc=QuantumCircuit(2)\n",
    "qc.unitary(unit,[0,1])\n",
    "qc.draw()\n"
   ]
  },
  {
   "cell_type": "code",
   "execution_count": 14,
   "id": "instrumental-financing",
   "metadata": {},
   "outputs": [
    {
     "name": "stdout",
     "output_type": "stream",
     "text": [
      "OPENQASM 2.0;\n",
      "include \"qelib1.inc\";\n",
      "qreg q[2];\n",
      "gate unitary140406507504928 p0,p1 {\n",
      "\tu3(3*pi/4,2*pi,0) p0;\n",
      "\tu3(pi/2,2*pi,0) p1;\n",
      "\tcx p0,p1;\n",
      "\tu3(3*pi/4,pi,-pi) p0;\n",
      "\tu3(pi/2,0,pi) p1;\n",
      "}\n",
      "unitary140406507504928 q[0],q[1];\n",
      "\n"
     ]
    }
   ],
   "source": [
    "print(qc.qasm())"
   ]
  },
  {
   "cell_type": "markdown",
   "id": "fb67b802",
   "metadata": {},
   "source": [
    "### Circuits from QK_QO converrted again in Qiskit"
   ]
  },
  {
   "cell_type": "code",
   "execution_count": 15,
   "id": "87d65c8f",
   "metadata": {},
   "outputs": [],
   "source": [
    "path=\"Circuits/QK_QO/example_003.qpf\""
   ]
  },
  {
   "cell_type": "code",
   "execution_count": 16,
   "id": "0bc931eb",
   "metadata": {},
   "outputs": [],
   "source": [
    "res=read_circuiit(path)\n",
    "\n",
    "nr_q=get_nr_q(res)\n",
    "initial_state=get_statevector(res['PuzzleDefinition']['FinalState']) "
   ]
  },
  {
   "cell_type": "code",
   "execution_count": 17,
   "id": "f31762cf",
   "metadata": {},
   "outputs": [
    {
     "data": {
      "image/png": "[encoded data removed]",
      "text/plain": [
       "<Figure size 1410.85x204.68 with 1 Axes>"
      ]
     },
     "execution_count": 17,
     "metadata": {},
     "output_type": "execute_result"
    }
   ],
   "source": [
    "qc=QuantumCircuit(nr_q,nr_q)\n",
    "\n",
    "add_gates(res,qc,barrier=True)\n",
    "\n",
    "qc.draw('mpl')"
   ]
  },
  {
   "cell_type": "code",
   "execution_count": 18,
   "id": "fb1c9962",
   "metadata": {},
   "outputs": [
    {
     "name": "stdout",
     "output_type": "stream",
     "text": [
      "OPENQASM 2.0;\n",
      "include \"qelib1.inc\";\n",
      "qreg q[2];\n",
      "creg c[2];\n",
      "barrier q[0],q[1];\n",
      "gate C [0] -> X[1] p0,p1 {\n",
      "\tu3(pi/2,-pi,0) p0;\n",
      "\tu3(pi/2,pi,0) p1;\n",
      "\tcx p0,p1;\n",
      "\tu3(pi/2,pi,-pi) p0;\n",
      "\tu3(pi/2,0,0) p1;\n",
      "}\n",
      "C [0] -> X[1] q[0],q[1];\n",
      "barrier q[0],q[1];\n",
      "gate u3 p0 {\n",
      "\tu3(pi/14,0,pi) p0;\n",
      "}\n",
      "u3 q[0];\n",
      "id q[1];\n",
      "barrier q[0],q[1];\n",
      "gate C [1] -> X[0] p0,p1 {\n",
      "\tu3(pi/2,-pi,0) p0;\n",
      "\tu3(pi/2,pi,0) p1;\n",
      "\tcx p0,p1;\n",
      "\tu3(pi/2,pi,-pi) p0;\n",
      "\tu3(pi/2,0,0) p1;\n",
      "}\n",
      "C [1] -> X[0] q[1],q[0];\n",
      "barrier q[0],q[1];\n",
      "gate u3 p0 {\n",
      "\tu3(pi/14,pi,-pi) p0;\n",
      "}\n",
      "u3 q[0];\n",
      "id q[1];\n",
      "barrier q[0],q[1];\n",
      "gate C [1] -> X[0] p0,p1 {\n",
      "\tu3(pi/2,-pi,0) p0;\n",
      "\tu3(pi/2,pi,0) p1;\n",
      "\tcx p0,p1;\n",
      "\tu3(pi/2,pi,-pi) p0;\n",
      "\tu3(pi/2,0,0) p1;\n",
      "}\n",
      "C [1] -> X[0] q[1],q[0];\n",
      "barrier q[0],q[1];\n",
      "gate C [0] -> X[1] p0,p1 {\n",
      "\tu3(pi/2,-pi,0) p0;\n",
      "\tu3(pi/2,pi,0) p1;\n",
      "\tcx p0,p1;\n",
      "\tu3(pi/2,pi,-pi) p0;\n",
      "\tu3(pi/2,0,0) p1;\n",
      "}\n",
      "C [0] -> X[1] q[0],q[1];\n",
      "barrier q[0],q[1];\n",
      "id q[0];\n",
      "id q[1];\n",
      "\n"
     ]
    }
   ],
   "source": [
    "qasm_circuit=qc.qasm()\n",
    "print(qc.qasm())"
   ]
  },
  {
   "cell_type": "code",
   "execution_count": null,
   "id": "004aefc0",
   "metadata": {},
   "outputs": [],
   "source": []
  }
 ],
 "metadata": {
  "kernelspec": {
   "display_name": "Python 3",
   "language": "python",
   "name": "python3"
  },
  "language_info": {
   "codemirror_mode": {
    "name": "ipython",
    "version": 3
   },
   "file_extension": ".py",
   "mimetype": "text/x-python",
   "name": "python",
   "nbconvert_exporter": "python",
   "pygments_lexer": "ipython3",
   "version": "3.8.8"
  }
 },
 "nbformat": 4,
 "nbformat_minor": 5
}
