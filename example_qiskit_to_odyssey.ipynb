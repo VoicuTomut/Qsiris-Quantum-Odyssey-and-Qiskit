{
 "cells": [
  {
   "cell_type": "code",
   "execution_count": 1,
   "id": "b34cafbb",
   "metadata": {},
   "outputs": [],
   "source": [
    "import numpy as np \n",
    "\n",
    "from qiskit import QuantumRegister, ClassicalRegister, QuantumCircuit\n",
    "from qiskit.compiler import transpile\n",
    "\n",
    "\n",
    "import matplotlib.pyplot as plt\n",
    "import matplotlib.image as mpimg\n",
    "\n",
    "\n",
    "from project_qsiris.conversion_qiskit_qo import qiskit_to_odyssey, save_odyssey_puzzle"
   ]
  },
  {
   "cell_type": "markdown",
   "id": "ff54a20f",
   "metadata": {},
   "source": [
    "## This runbook allows you to convert any Qiskit circuit to a Quantum Odyssey puzzle"
   ]
  },
  {
   "cell_type": "markdown",
   "id": "d0c8a618",
   "metadata": {},
   "source": [
    "### Example_001:\n",
    "\n",
    "You can convert any qiskit gates to QO. If there are any problems for the conversion, contact the Owner ;)\n",
    "\n",
    "Protip: Transpile the Qiskit circuit first and everything will be fine.."
   ]
  },
  {
   "cell_type": "code",
   "execution_count": 2,
   "id": "b817b080",
   "metadata": {},
   "outputs": [
    {
     "data": {
      "image/png": "[encoded data removed]",
      "text/plain": [
       "<Figure size 146.652x144.48 with 1 Axes>"
      ]
     },
     "execution_count": 2,
     "metadata": {},
     "output_type": "execute_result"
    }
   ],
   "source": [
    "#Add here any Qiskit gates you'd like to be converted to Quantum Odyssey. What you see bellow is an example\n",
    "#You can change the QuantumRegister between 1 to 5 qubits.\n",
    "qreg_q = QuantumRegister(2,'q')\n",
    "circuit = QuantumCircuit(qreg_q)\n",
    "\n",
    "\n",
    "\n",
    "circuit.x(qreg_q[0])\n",
    "circuit.y(qreg_q[1])\n",
    "\n",
    "\n",
    "circuit.draw('mpl')"
   ]
  },
  {
   "cell_type": "code",
   "execution_count": 3,
   "id": "0fcf46df",
   "metadata": {},
   "outputs": [
    {
     "name": "stdout",
     "output_type": "stream",
     "text": [
      "{'IsGateVisible': False, 'GateDefinition': {'ID': 5, 'Name': 'I', 'Type': 0, 'IconPath': 'Artwork/GatesIcons/IGate', 'CompatibleQubits': 1, 'DefinitionMatrix': [[{'Real': 1.0, 'Imaginary': 0.0, 'Magnitude': 1.0, 'Phase': 0.0}, {'Real': 0.0, 'Imaginary': 0.0, 'Magnitude': 0.0, 'Phase': 0.0}], [{'Real': 0.0, 'Imaginary': 0.0, 'Magnitude': 0.0, 'Phase': 0.0}, {'Real': 1.0, 'Imaginary': 0.0, 'Magnitude': 1.0, 'Phase': 0.0}]]}, 'CircuitPosition': {'Item1': 1, 'Item2': 6}, 'SlaveGatesIDs': None, 'MasterGateID': -1, 'OrderInPlacement': 0, 'ID': 7}\n",
      "circuit-0 saved:circuits/qiskit_to_odyssey/example_001.qpf\n"
     ]
    }
   ],
   "source": [
    "# This creates the QO puzzle out of your Qiskit circuit. \n",
    "# You can save it in two ways: General (as an actual puzzle to be solved) or Editor (to just visualize it in QO).\n",
    "puzzle = qiskit_to_odyssey(circuit, puzzle_type=\"General\")\n",
    "# The name of the puzzle (by default example_001). QO puzzles have extension .qpf\n",
    "save_odyssey_puzzle(puzzle, 'example_001' )"
   ]
  },
  {
   "cell_type": "markdown",
   "id": "6ca91a1c",
   "metadata": {},
   "source": [
    "### Example_002\n",
    "\n",
    "If you have more complex gates it would be better if you transpile your circuit first at least for the moment."
   ]
  },
  {
   "cell_type": "code",
   "execution_count": 4,
   "id": "21db0971",
   "metadata": {},
   "outputs": [
    {
     "data": {
      "image/png": "[encoded data removed]",
      "text/plain": [
       "<Figure size 327.397x264.88 with 1 Axes>"
      ]
     },
     "execution_count": 4,
     "metadata": {},
     "output_type": "execute_result"
    }
   ],
   "source": [
    "#Step 1: Build the circuit in Qiskit\n",
    "\n",
    "qreg_q = QuantumRegister(4,'q')\n",
    "circuit = QuantumCircuit(qreg_q)\n",
    "\n",
    "circuit.cx(qreg_q[1],qreg_q[2])\n",
    "\n",
    "circuit.h(qreg_q[1])\n",
    "circuit.z(qreg_q[3])\n",
    "circuit.u(np.pi/7,np.pi/3,np.pi/5,qreg_q[0])\n",
    "circuit.swap(qreg_q[0], qreg_q[3])\n",
    "\n",
    "circuit.draw('mpl')"
   ]
  },
  {
   "cell_type": "code",
   "execution_count": 5,
   "id": "07c584c7",
   "metadata": {},
   "outputs": [
    {
     "data": {
      "image/png": "[encoded data removed]",
      "text/plain": [
       "<Figure size 447.797x264.88 with 1 Axes>"
      ]
     },
     "execution_count": 5,
     "metadata": {},
     "output_type": "execute_result"
    }
   ],
   "source": [
    "#Step 2: Transpile your Qiskit circuit to simple gates to conversion avoid problems \n",
    "\n",
    "circuit = transpile(circuit, basis_gates=['id','u3', 'cx'], optimization_level=1, seed_transpiler=1) \n",
    "circuit.draw(output='mpl')"
   ]
  },
  {
   "cell_type": "code",
   "execution_count": 6,
   "id": "0fb84788",
   "metadata": {},
   "outputs": [
    {
     "name": "stdout",
     "output_type": "stream",
     "text": [
      "{'IsGateVisible': False, 'GateDefinition': {'ID': 5, 'Name': 'I', 'Type': 0, 'IconPath': 'Artwork/GatesIcons/IGate', 'CompatibleQubits': 1, 'DefinitionMatrix': [[{'Real': 1.0, 'Imaginary': 0.0, 'Magnitude': 1.0, 'Phase': 0.0}, {'Real': 0.0, 'Imaginary': 0.0, 'Magnitude': 0.0, 'Phase': 0.0}], [{'Real': 0.0, 'Imaginary': 0.0, 'Magnitude': 0.0, 'Phase': 0.0}, {'Real': 1.0, 'Imaginary': 0.0, 'Magnitude': 1.0, 'Phase': 0.0}]]}, 'CircuitPosition': {'Item1': 3, 'Item2': 6}, 'SlaveGatesIDs': None, 'MasterGateID': -1, 'OrderInPlacement': 0, 'ID': 21}\n"
     ]
    },
    {
     "ename": "IndexError",
     "evalue": "list assignment index out of range",
     "output_type": "error",
     "traceback": [
      "\u001b[0;31m---------------------------------------------------------------------------\u001b[0m",
      "\u001b[0;31mIndexError\u001b[0m                                Traceback (most recent call last)",
      "\u001b[0;32m<ipython-input-6-a64972a90d1f>\u001b[0m in \u001b[0;36m<module>\u001b[0;34m\u001b[0m\n\u001b[1;32m      1\u001b[0m \u001b[0;31m#Step 3: Convert your circuit in dictionary that represents a QO puzzle.\u001b[0m\u001b[0;34m\u001b[0m\u001b[0;34m\u001b[0m\u001b[0;34m\u001b[0m\u001b[0m\n\u001b[0;32m----> 2\u001b[0;31m \u001b[0mpuzzle\u001b[0m\u001b[0;34m=\u001b[0m\u001b[0mqiskit_to_odyssey\u001b[0m\u001b[0;34m(\u001b[0m\u001b[0mcircuit\u001b[0m\u001b[0;34m,\u001b[0m \u001b[0mpuzzle_type\u001b[0m\u001b[0;34m=\u001b[0m\u001b[0;34m\"General\"\u001b[0m\u001b[0;34m)\u001b[0m\u001b[0;34m\u001b[0m\u001b[0;34m\u001b[0m\u001b[0m\n\u001b[0m\u001b[1;32m      3\u001b[0m \u001b[0;34m\u001b[0m\u001b[0m\n\u001b[1;32m      4\u001b[0m \u001b[0;34m\u001b[0m\u001b[0m\n\u001b[1;32m      5\u001b[0m \u001b[0;31m#Step 4: Save your puzzle\u001b[0m\u001b[0;34m\u001b[0m\u001b[0;34m\u001b[0m\u001b[0;34m\u001b[0m\u001b[0m\n",
      "\u001b[0;32m~/Documents/GitHub/Qsiris-Quantum-Odyssey-and-Qiskit/project_qsiris/conversion_qiskit_qo.py\u001b[0m in \u001b[0;36mqiskit_to_odyssey\u001b[0;34m(qiskit_circuit, gate_cap, puzzle_type, SolutionMinimumGates)\u001b[0m\n\u001b[1;32m    138\u001b[0m \u001b[0;34m\u001b[0m\u001b[0m\n\u001b[1;32m    139\u001b[0m \u001b[0;34m\u001b[0m\u001b[0m\n\u001b[0;32m--> 140\u001b[0;31m     \u001b[0mpuzzle\u001b[0m\u001b[0;34m[\u001b[0m\u001b[0;34m\"PuzzleGateSlots\"\u001b[0m\u001b[0;34m]\u001b[0m \u001b[0;34m=\u001b[0m \u001b[0mconv\u001b[0m\u001b[0;34m.\u001b[0m\u001b[0m_transpose_list\u001b[0m\u001b[0;34m(\u001b[0m\u001b[0m_get_odyssey_circuit\u001b[0m\u001b[0;34m(\u001b[0m\u001b[0mqiskit_circuit\u001b[0m\u001b[0;34m)\u001b[0m\u001b[0;34m,\u001b[0m\u001b[0mlen\u001b[0m\u001b[0;34m(\u001b[0m\u001b[0mqiskit_circuit\u001b[0m\u001b[0;34m.\u001b[0m\u001b[0mqubits\u001b[0m\u001b[0;34m)\u001b[0m\u001b[0;34m)\u001b[0m\u001b[0;34m\u001b[0m\u001b[0;34m\u001b[0m\u001b[0m\n\u001b[0m\u001b[1;32m    141\u001b[0m \u001b[0;34m\u001b[0m\u001b[0m\n\u001b[1;32m    142\u001b[0m \u001b[0;34m\u001b[0m\u001b[0m\n",
      "\u001b[0;32m~/Documents/GitHub/Qsiris-Quantum-Odyssey-and-Qiskit/project_qsiris/conversion_gates.py\u001b[0m in \u001b[0;36m_transpose_list\u001b[0;34m(L, nr_q)\u001b[0m\n\u001b[1;32m     81\u001b[0m         \u001b[0mj\u001b[0m\u001b[0;34m=\u001b[0m\u001b[0mgate\u001b[0m\u001b[0;34m[\u001b[0m\u001b[0;34m'CircuitPosition'\u001b[0m\u001b[0;34m]\u001b[0m\u001b[0;34m[\u001b[0m\u001b[0;34m'Item1'\u001b[0m\u001b[0;34m]\u001b[0m\u001b[0;34m\u001b[0m\u001b[0;34m\u001b[0m\u001b[0m\n\u001b[1;32m     82\u001b[0m         \u001b[0mi\u001b[0m\u001b[0;34m=\u001b[0m\u001b[0mgate\u001b[0m\u001b[0;34m[\u001b[0m\u001b[0;34m'CircuitPosition'\u001b[0m\u001b[0;34m]\u001b[0m\u001b[0;34m[\u001b[0m\u001b[0;34m'Item2'\u001b[0m\u001b[0;34m]\u001b[0m\u001b[0;34m\u001b[0m\u001b[0;34m\u001b[0m\u001b[0m\n\u001b[0;32m---> 83\u001b[0;31m         \u001b[0mB\u001b[0m\u001b[0;34m[\u001b[0m\u001b[0mi\u001b[0m\u001b[0;34m]\u001b[0m\u001b[0;34m[\u001b[0m\u001b[0mj\u001b[0m\u001b[0;34m]\u001b[0m \u001b[0;34m=\u001b[0m \u001b[0mgate\u001b[0m\u001b[0;34m\u001b[0m\u001b[0;34m\u001b[0m\u001b[0m\n\u001b[0m\u001b[1;32m     84\u001b[0m \u001b[0;34m\u001b[0m\u001b[0m\n\u001b[1;32m     85\u001b[0m     \u001b[0;32mreturn\u001b[0m \u001b[0mB\u001b[0m\u001b[0;34m\u001b[0m\u001b[0;34m\u001b[0m\u001b[0m\n",
      "\u001b[0;31mIndexError\u001b[0m: list assignment index out of range"
     ]
    }
   ],
   "source": [
    "#Step 3: Convert your circuit in dictionary that represents a QO puzzle.\n",
    "puzzle=qiskit_to_odyssey(circuit, puzzle_type=\"General\")\n",
    "\n",
    "\n",
    "#Step 4: Save your puzzle \n",
    "save_odyssey_puzzle(puzzle, 'example_002' )"
   ]
  },
  {
   "cell_type": "markdown",
   "id": "86c3f145",
   "metadata": {},
   "source": [
    "### Example_003"
   ]
  },
  {
   "cell_type": "code",
   "execution_count": null,
   "id": "2bf14c2d",
   "metadata": {},
   "outputs": [],
   "source": [
    "circuit = QuantumCircuit(2,name='matchgate_2Q')\n",
    "\n",
    "circuit.cx(0,1)\n",
    "circuit.z(0)\n",
    "circuit.cry(np.pi/7,1,0)\n",
    "circuit.cx(0,1)\n",
    "\n",
    "circuit.draw('mpl')"
   ]
  },
  {
   "cell_type": "code",
   "execution_count": null,
   "id": "c1574376",
   "metadata": {},
   "outputs": [],
   "source": [
    "circuit = transpile(circuit, basis_gates=['id','u3', 'cx'], optimization_level=1, seed_transpiler=1) \n",
    "circuit.draw(output='mpl')"
   ]
  },
  {
   "cell_type": "code",
   "execution_count": null,
   "id": "2a1a497e",
   "metadata": {},
   "outputs": [],
   "source": [
    "puzzle = qiskit_to_odyssey(circuit)\n",
    "save_odyssey_puzzle(puzzle, 'example_003' )"
   ]
  },
  {
   "cell_type": "code",
   "execution_count": null,
   "id": "f274c56e",
   "metadata": {},
   "outputs": [],
   "source": [
    "# Let's see here how the default example_003 puzzle file will look like in Quantum Odyssey\n",
    "img_circuit = mpimg.imread('img/qiskit_circuit_to_QO.png')\n",
    "img_circuit_gate = mpimg.imread('img/qo_circuit_as_1gate.png')\n",
    "\n",
    "fig, ax = plt.subplots(1,2)\n",
    "ax[0].imshow(img_circuit);\n",
    "ax[1].imshow(img_circuit_gate);\n",
    "\n",
    "ax[0].set_title('Circuit in  QO')\n",
    "#Quantum Odyssey allows compilation of any number of logic gates in a single custom gate (right side bellow=left)\n",
    "ax[1].set_title('Circuit in QO as a gate')"
   ]
  },
  {
   "cell_type": "code",
   "execution_count": null,
   "id": "48f85db0",
   "metadata": {},
   "outputs": [],
   "source": [
    "#Here is how the QO puzzle file looks like, this is an example\n",
    "puzzle"
   ]
  },
  {
   "cell_type": "code",
   "execution_count": null,
   "id": "1f2201bd",
   "metadata": {},
   "outputs": [],
   "source": []
  },
  {
   "cell_type": "code",
   "execution_count": null,
   "id": "be738a99",
   "metadata": {},
   "outputs": [],
   "source": []
  }
 ],
 "metadata": {
  "kernelspec": {
   "display_name": "Python 3",
   "language": "python",
   "name": "python3"
  },
  "language_info": {
   "codemirror_mode": {
    "name": "ipython",
    "version": 3
   },
   "file_extension": ".py",
   "mimetype": "text/x-python",
   "name": "python",
   "nbconvert_exporter": "python",
   "pygments_lexer": "ipython3",
   "version": "3.7.10"
  }
 },
 "nbformat": 4,
 "nbformat_minor": 5
}
