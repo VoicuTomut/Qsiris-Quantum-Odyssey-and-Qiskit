{
 "cells": [
  {
   "cell_type": "code",
   "execution_count": 1,
   "id": "b34cafbb",
   "metadata": {},
   "outputs": [],
   "source": [
    "import numpy as np \n",
    "\n",
    "from qiskit import QuantumRegister, ClassicalRegister, QuantumCircuit\n",
    "from qiskit.compiler import transpile\n",
    "\n",
    "\n",
    "import matplotlib.pyplot as plt\n",
    "import matplotlib.image as mpimg\n",
    "\n",
    "\n",
    "from project_qsiris.conversion_qiskit_qo import qiskit_to_odyssey, save_odyssey_puzzle"
   ]
  },
  {
   "cell_type": "code",
   "execution_count": 2,
   "id": "5fa74430",
   "metadata": {},
   "outputs": [],
   "source": [
    "from project_qsiris import Puzzle"
   ]
  },
  {
   "cell_type": "markdown",
   "id": "ff54a20f",
   "metadata": {},
   "source": [
    "## This runbook allows you to convert any Qiskit circuit to a Quantum Odyssey puzzle"
   ]
  },
  {
   "cell_type": "markdown",
   "id": "d0c8a618",
   "metadata": {},
   "source": [
    "### Example_001:\n",
    "\n",
    "You can convert any qiskit gates to QO. If there are any problems for the conversion, contact the Owner ;)\n",
    "\n",
    "Protip: Transpile the Qiskit circuit first and everything will be fine.."
   ]
  },
  {
   "cell_type": "code",
   "execution_count": 3,
   "id": "b817b080",
   "metadata": {},
   "outputs": [
    {
     "data": {
      "image/png": "[encoded data removed]",
      "text/plain": [
       "<Figure size 146.652x144.48 with 1 Axes>"
      ]
     },
     "execution_count": 3,
     "metadata": {},
     "output_type": "execute_result"
    }
   ],
   "source": [
    "#Add here any Qiskit gates you'd like to be converted to Quantum Odyssey. What you see bellow is an example\n",
    "#You can change the QuantumRegister between 1 to 5 qubits.\n",
    "qreg_q = QuantumRegister(2,'q')\n",
    "circuit = QuantumCircuit(qreg_q)\n",
    "\n",
    "\n",
    "\n",
    "circuit.x(qreg_q[0])\n",
    "circuit.y(qreg_q[1])\n",
    "\n",
    "\n",
    "circuit.draw('mpl')"
   ]
  },
  {
   "cell_type": "code",
   "execution_count": 4,
   "id": "64d87f9b",
   "metadata": {},
   "outputs": [],
   "source": [
    "qiskit_circuit=circuit\n",
    "gate_cap = 2\n",
    "test_puzzzle=Puzzle(qiskit_circuit, gate_cap)"
   ]
  },
  {
   "cell_type": "code",
   "execution_count": 5,
   "id": "55ccb630",
   "metadata": {},
   "outputs": [
    {
     "name": "stdout",
     "output_type": "stream",
     "text": [
      "Id: 57\n",
      "QubitCapacity: 2\n",
      "GateCapacity: 2\n",
      "SolutionMinimumGates: 1\n",
      "InitialState: [[{'Real': 1, 'Imaginary': 0, 'Magnitude': 1, 'Phase': 0.0}], [{'Real': 0, 'Imaginary': 0, 'Magnitude': 0, 'Phase': 0.0}], [{'Real': 0, 'Imaginary': 0, 'Magnitude': 0, 'Phase': 0.0}], [{'Real': 0, 'Imaginary': 0, 'Magnitude': 0, 'Phase': 0.0}]]\n",
      "FinalState: [[{'Real': 1, 'Imaginary': 0, 'Magnitude': 1, 'Phase': 0.0}], [{'Real': 0, 'Imaginary': 0, 'Magnitude': 0, 'Phase': 0.0}], [{'Real': 0, 'Imaginary': 0, 'Magnitude': 0, 'Phase': 0.0}], [{'Real': 0, 'Imaginary': 0, 'Magnitude': 0, 'Phase': 0.0}]]\n",
      "FinalBallState: [[{'Real': 1.0, 'Imaginary': 0.0, 'Magnitude': 0.0, 'Phase': 0.0}, {'Real': 0.0, 'Imaginary': 0.0, 'Magnitude': 0.0, 'Phase': 0.0}, {'Real': 0.0, 'Imaginary': 0.0, 'Magnitude': 0.0, 'Phase': 0.0}, {'Real': 0.0, 'Imaginary': 0.0, 'Magnitude': 0.0, 'Phase': 0.0}], [{'Real': 0.0, 'Imaginary': 0.0, 'Magnitude': 0.0, 'Phase': 0.0}, {'Real': 0.0, 'Imaginary': 0.0, 'Magnitude': 0.0, 'Phase': 0.0}, {'Real': 0.0, 'Imaginary': 0.0, 'Magnitude': 0.0, 'Phase': 0.0}, {'Real': 0.0, 'Imaginary': 0.0, 'Magnitude': 0.0, 'Phase': 0.0}], [{'Real': 0.0, 'Imaginary': 0.0, 'Magnitude': 0.0, 'Phase': 0.0}, {'Real': 0.0, 'Imaginary': 0.0, 'Magnitude': 0.0, 'Phase': 0.0}, {'Real': 0.0, 'Imaginary': 0.0, 'Magnitude': 0.0, 'Phase': 0.0}, {'Real': 0.0, 'Imaginary': 0.0, 'Magnitude': 0.0, 'Phase': 0.0}], [{'Real': 0.0, 'Imaginary': 0.0, 'Magnitude': 0.0, 'Phase': 0.0}, {'Real': 0.0, 'Imaginary': 0.0, 'Magnitude': 0.0, 'Phase': 0.0}, {'Real': 0.0, 'Imaginary': 0.0, 'Magnitude': 0.0, 'Phase': 0.0}, {'Real': 0.0, 'Imaginary': 0.0, 'Magnitude': 0.0, 'Phase': 0.0}]]\n"
     ]
    }
   ],
   "source": [
    "test_puzzzle.PuzzleDefinition.print_info()"
   ]
  },
  {
   "cell_type": "code",
   "execution_count": 6,
   "id": "ad1cb78c",
   "metadata": {},
   "outputs": [
    {
     "name": "stdout",
     "output_type": "stream",
     "text": [
      "AvailableGates:\n",
      "ID: 0\n",
      "Name: H\n",
      "Type: 2\n",
      "IconPath: Artwork/GatesIcons/HGate\n",
      "CompatibleQubits: 1\n",
      "DefinitionMatrix: [[{'Real': 0.7071067811865475, 'Imaginary': 0.0, 'Magnitude': 0.7071067811865475, 'Phase': 0.0}, {'Real': 0.7071067811865475, 'Imaginary': 0.0, 'Magnitude': 0.7071067811865475, 'Phase': 0.0}], [{'Real': 0.7071067811865475, 'Imaginary': 0.0, 'Magnitude': 0.7071067811865475, 'Phase': 0.0}, {'Real': -0.7071067811865475, 'Imaginary': 0.0, 'Magnitude': 0.7071067811865475, 'Phase': 3.141592653589793}]]\n",
      "\n",
      "\n",
      "ID: 1\n",
      "Name: Z\n",
      "Type: 1\n",
      "IconPath: Artwork/GatesIcons/ZGate\n",
      "CompatibleQubits: 1\n",
      "DefinitionMatrix: [[{'Real': 1.0, 'Imaginary': 0.0, 'Magnitude': 1.0, 'Phase': 0.0}, {'Real': 0.0, 'Imaginary': 0.0, 'Magnitude': 0.0, 'Phase': 0.0}], [{'Real': 0.0, 'Imaginary': 0.0, 'Magnitude': 0.0, 'Phase': 0.0}, {'Real': -1.0, 'Imaginary': 0.0, 'Magnitude': 1.0, 'Phase': 3.141592653589793}]]\n",
      "\n",
      "\n",
      "ID: 2\n",
      "Name: Y\n",
      "Type: 5\n",
      "IconPath: Artwork/GatesIcons/YGate\n",
      "CompatibleQubits: 1\n",
      "DefinitionMatrix: [[{'Real': 0.0, 'Imaginary': 0.0, 'Magnitude': 0.0, 'Phase': 0.0}, {'Real': 0.0, 'Imaginary': -1.0, 'Magnitude': 1.0, 'Phase': -1.5707963267948966}], [{'Real': 0.0, 'Imaginary': 1.0, 'Magnitude': 1.0, 'Phase': 1.5707963267948966}, {'Real': 0.0, 'Imaginary': 0.0, 'Magnitude': 0.0, 'Phase': 0.0}]]\n",
      "\n",
      "\n",
      "ID: 3\n",
      "Name: X\n",
      "Type: 3\n",
      "IconPath: Artwork/GatesIcons/XGate\n",
      "CompatibleQubits: 1\n",
      "DefinitionMatrix: [[{'Real': 0.0, 'Imaginary': 0.0, 'Magnitude': 0.0, 'Phase': 0.0}, {'Real': 1.0, 'Imaginary': 0.0, 'Magnitude': 1.0, 'Phase': 0.0}], [{'Real': 1.0, 'Imaginary': 0.0, 'Magnitude': 1.0, 'Phase': 0.0}, {'Real': 0.0, 'Imaginary': 0.0, 'Magnitude': 0.0, 'Phase': 0.0}]]\n",
      "\n",
      "\n",
      "ID: 5\n",
      "Name: CTRL\n",
      "Type: 6\n",
      "IconPath: Artwork/GatesIcons/CTRLGate\n",
      "CompatibleQubits: 1\n",
      "DefinitionMatrix: [[{'Real': 0.0, 'Imaginary': 0.0, 'Magnitude': 0.0, 'Phase': 0.0}, {'Real': 0.0, 'Imaginary': 0.0, 'Magnitude': 0.0, 'Phase': 0.0}], [{'Real': 0.0, 'Imaginary': 0.0, 'Magnitude': 0.0, 'Phase': 0.0}, {'Real': 1.0, 'Imaginary': 0.0, 'Magnitude': 1.0, 'Phase': 0.0}]]\n",
      "\n",
      "\n"
     ]
    }
   ],
   "source": [
    "print(\"AvailableGates:\")\n",
    "for gate in test_puzzzle.AvailableGates:\n",
    "    gate.print_info()\n",
    "    print(\"\\n\")"
   ]
  },
  {
   "cell_type": "code",
   "execution_count": 7,
   "id": "9df17117",
   "metadata": {},
   "outputs": [
    {
     "name": "stdout",
     "output_type": "stream",
     "text": [
      "Tooltips: []\n"
     ]
    }
   ],
   "source": [
    "print(\"Tooltips:\",test_puzzzle.Tooltips)"
   ]
  },
  {
   "cell_type": "code",
   "execution_count": 8,
   "id": "ba5b7ee1",
   "metadata": {},
   "outputs": [
    {
     "name": "stdout",
     "output_type": "stream",
     "text": [
      "PuzzleGateSlots:\n",
      "\n",
      "Moment[0]:\n",
      "IsGateVisible True\n",
      "gate{ \n",
      "ID: 3\n",
      "Name: X\n",
      "Type: 3\n",
      "IconPath: Artwork/GatesIcons/XGate\n",
      "CompatibleQubits: 1\n",
      "DefinitionMatrix: [[{'Real': 0.0, 'Imaginary': 0.0, 'Magnitude': 0.0, 'Phase': 0.0}, {'Real': 1.0, 'Imaginary': 0.0, 'Magnitude': 1.0, 'Phase': 0.0}], [{'Real': 1.0, 'Imaginary': 0.0, 'Magnitude': 1.0, 'Phase': 0.0}, {'Real': 0.0, 'Imaginary': 0.0, 'Magnitude': 0.0, 'Phase': 0.0}]]\n",
      "}\n",
      "CircuitPosition  (0, 0)\n",
      "SlaveGatesIDs None\n",
      "MasterGateID -1\n",
      "OrderInPlacement 0\n",
      "ID: 0\n",
      "\n",
      "\n",
      "IsGateVisible True\n",
      "gate{ \n",
      "ID: 2\n",
      "Name: Y\n",
      "Type: 5\n",
      "IconPath: Artwork/GatesIcons/YGate\n",
      "CompatibleQubits: 1\n",
      "DefinitionMatrix: [[{'Real': 0.0, 'Imaginary': 0.0, 'Magnitude': 0.0, 'Phase': 0.0}, {'Real': 0.0, 'Imaginary': -1.0, 'Magnitude': 1.0, 'Phase': -1.5707963267948966}], [{'Real': 0.0, 'Imaginary': 1.0, 'Magnitude': 1.0, 'Phase': 1.5707963267948966}, {'Real': 0.0, 'Imaginary': 0.0, 'Magnitude': 0.0, 'Phase': 0.0}]]\n",
      "}\n",
      "CircuitPosition  (0, 1)\n",
      "SlaveGatesIDs None\n",
      "MasterGateID -1\n",
      "OrderInPlacement 0\n",
      "ID: 2\n",
      "\n",
      "\n",
      "Moment[1]:\n",
      "IsGateVisible False\n",
      "gate{ \n",
      "ID: 5\n",
      "Name: I\n",
      "Type: 0\n",
      "IconPath: Artwork/GatesIcons/IGate\n",
      "CompatibleQubits: 1\n",
      "DefinitionMatrix: [[{'Real': 1.0, 'Imaginary': 0.0, 'Magnitude': 1.0, 'Phase': 0.0}, {'Real': 0.0, 'Imaginary': 0.0, 'Magnitude': 0.0, 'Phase': 0.0}], [{'Real': 0.0, 'Imaginary': 0.0, 'Magnitude': 0.0, 'Phase': 0.0}, {'Real': 1.0, 'Imaginary': 0.0, 'Magnitude': 1.0, 'Phase': 0.0}]]\n",
      "}\n",
      "CircuitPosition  (1, 0)\n",
      "SlaveGatesIDs None\n",
      "MasterGateID -1\n",
      "OrderInPlacement 0\n",
      "ID: 2\n",
      "\n",
      "\n",
      "IsGateVisible False\n",
      "gate{ \n",
      "ID: 5\n",
      "Name: I\n",
      "Type: 0\n",
      "IconPath: Artwork/GatesIcons/IGate\n",
      "CompatibleQubits: 1\n",
      "DefinitionMatrix: [[{'Real': 1.0, 'Imaginary': 0.0, 'Magnitude': 1.0, 'Phase': 0.0}, {'Real': 0.0, 'Imaginary': 0.0, 'Magnitude': 0.0, 'Phase': 0.0}], [{'Real': 0.0, 'Imaginary': 0.0, 'Magnitude': 0.0, 'Phase': 0.0}, {'Real': 1.0, 'Imaginary': 0.0, 'Magnitude': 1.0, 'Phase': 0.0}]]\n",
      "}\n",
      "CircuitPosition  (1, 1)\n",
      "SlaveGatesIDs None\n",
      "MasterGateID -1\n",
      "OrderInPlacement 0\n",
      "ID: 3\n",
      "\n",
      "\n",
      "Moment[2]:\n",
      "IsGateVisible False\n",
      "gate{ \n",
      "ID: 5\n",
      "Name: I\n",
      "Type: 0\n",
      "IconPath: Artwork/GatesIcons/IGate\n",
      "CompatibleQubits: 1\n",
      "DefinitionMatrix: [[{'Real': 1.0, 'Imaginary': 0.0, 'Magnitude': 1.0, 'Phase': 0.0}, {'Real': 0.0, 'Imaginary': 0.0, 'Magnitude': 0.0, 'Phase': 0.0}], [{'Real': 0.0, 'Imaginary': 0.0, 'Magnitude': 0.0, 'Phase': 0.0}, {'Real': 1.0, 'Imaginary': 0.0, 'Magnitude': 1.0, 'Phase': 0.0}]]\n",
      "}\n",
      "CircuitPosition  (2, 0)\n",
      "SlaveGatesIDs None\n",
      "MasterGateID -1\n",
      "OrderInPlacement 0\n",
      "ID: 4\n",
      "\n",
      "\n",
      "IsGateVisible False\n",
      "gate{ \n",
      "ID: 5\n",
      "Name: I\n",
      "Type: 0\n",
      "IconPath: Artwork/GatesIcons/IGate\n",
      "CompatibleQubits: 1\n",
      "DefinitionMatrix: [[{'Real': 1.0, 'Imaginary': 0.0, 'Magnitude': 1.0, 'Phase': 0.0}, {'Real': 0.0, 'Imaginary': 0.0, 'Magnitude': 0.0, 'Phase': 0.0}], [{'Real': 0.0, 'Imaginary': 0.0, 'Magnitude': 0.0, 'Phase': 0.0}, {'Real': 1.0, 'Imaginary': 0.0, 'Magnitude': 1.0, 'Phase': 0.0}]]\n",
      "}\n",
      "CircuitPosition  (2, 1)\n",
      "SlaveGatesIDs None\n",
      "MasterGateID -1\n",
      "OrderInPlacement 0\n",
      "ID: 5\n",
      "\n",
      "\n",
      "Moment[3]:\n",
      "IsGateVisible False\n",
      "gate{ \n",
      "ID: 5\n",
      "Name: I\n",
      "Type: 0\n",
      "IconPath: Artwork/GatesIcons/IGate\n",
      "CompatibleQubits: 1\n",
      "DefinitionMatrix: [[{'Real': 1.0, 'Imaginary': 0.0, 'Magnitude': 1.0, 'Phase': 0.0}, {'Real': 0.0, 'Imaginary': 0.0, 'Magnitude': 0.0, 'Phase': 0.0}], [{'Real': 0.0, 'Imaginary': 0.0, 'Magnitude': 0.0, 'Phase': 0.0}, {'Real': 1.0, 'Imaginary': 0.0, 'Magnitude': 1.0, 'Phase': 0.0}]]\n",
      "}\n",
      "CircuitPosition  (3, 0)\n",
      "SlaveGatesIDs None\n",
      "MasterGateID -1\n",
      "OrderInPlacement 0\n",
      "ID: 6\n",
      "\n",
      "\n",
      "IsGateVisible False\n",
      "gate{ \n",
      "ID: 5\n",
      "Name: I\n",
      "Type: 0\n",
      "IconPath: Artwork/GatesIcons/IGate\n",
      "CompatibleQubits: 1\n",
      "DefinitionMatrix: [[{'Real': 1.0, 'Imaginary': 0.0, 'Magnitude': 1.0, 'Phase': 0.0}, {'Real': 0.0, 'Imaginary': 0.0, 'Magnitude': 0.0, 'Phase': 0.0}], [{'Real': 0.0, 'Imaginary': 0.0, 'Magnitude': 0.0, 'Phase': 0.0}, {'Real': 1.0, 'Imaginary': 0.0, 'Magnitude': 1.0, 'Phase': 0.0}]]\n",
      "}\n",
      "CircuitPosition  (3, 1)\n",
      "SlaveGatesIDs None\n",
      "MasterGateID -1\n",
      "OrderInPlacement 0\n",
      "ID: 7\n",
      "\n",
      "\n",
      "Moment[4]:\n",
      "IsGateVisible False\n",
      "gate{ \n",
      "ID: 5\n",
      "Name: I\n",
      "Type: 0\n",
      "IconPath: Artwork/GatesIcons/IGate\n",
      "CompatibleQubits: 1\n",
      "DefinitionMatrix: [[{'Real': 1.0, 'Imaginary': 0.0, 'Magnitude': 1.0, 'Phase': 0.0}, {'Real': 0.0, 'Imaginary': 0.0, 'Magnitude': 0.0, 'Phase': 0.0}], [{'Real': 0.0, 'Imaginary': 0.0, 'Magnitude': 0.0, 'Phase': 0.0}, {'Real': 1.0, 'Imaginary': 0.0, 'Magnitude': 1.0, 'Phase': 0.0}]]\n",
      "}\n",
      "CircuitPosition  (4, 0)\n",
      "SlaveGatesIDs None\n",
      "MasterGateID -1\n",
      "OrderInPlacement 0\n",
      "ID: 8\n",
      "\n",
      "\n",
      "IsGateVisible False\n",
      "gate{ \n",
      "ID: 5\n",
      "Name: I\n",
      "Type: 0\n",
      "IconPath: Artwork/GatesIcons/IGate\n",
      "CompatibleQubits: 1\n",
      "DefinitionMatrix: [[{'Real': 1.0, 'Imaginary': 0.0, 'Magnitude': 1.0, 'Phase': 0.0}, {'Real': 0.0, 'Imaginary': 0.0, 'Magnitude': 0.0, 'Phase': 0.0}], [{'Real': 0.0, 'Imaginary': 0.0, 'Magnitude': 0.0, 'Phase': 0.0}, {'Real': 1.0, 'Imaginary': 0.0, 'Magnitude': 1.0, 'Phase': 0.0}]]\n",
      "}\n",
      "CircuitPosition  (4, 1)\n",
      "SlaveGatesIDs None\n",
      "MasterGateID -1\n",
      "OrderInPlacement 0\n",
      "ID: 9\n",
      "\n",
      "\n",
      "Moment[5]:\n",
      "IsGateVisible False\n",
      "gate{ \n",
      "ID: 5\n",
      "Name: I\n",
      "Type: 0\n",
      "IconPath: Artwork/GatesIcons/IGate\n",
      "CompatibleQubits: 1\n",
      "DefinitionMatrix: [[{'Real': 1.0, 'Imaginary': 0.0, 'Magnitude': 1.0, 'Phase': 0.0}, {'Real': 0.0, 'Imaginary': 0.0, 'Magnitude': 0.0, 'Phase': 0.0}], [{'Real': 0.0, 'Imaginary': 0.0, 'Magnitude': 0.0, 'Phase': 0.0}, {'Real': 1.0, 'Imaginary': 0.0, 'Magnitude': 1.0, 'Phase': 0.0}]]\n",
      "}\n",
      "CircuitPosition  (5, 0)\n",
      "SlaveGatesIDs None\n",
      "MasterGateID -1\n",
      "OrderInPlacement 0\n",
      "ID: 10\n",
      "\n",
      "\n",
      "IsGateVisible False\n",
      "gate{ \n",
      "ID: 5\n",
      "Name: I\n",
      "Type: 0\n",
      "IconPath: Artwork/GatesIcons/IGate\n",
      "CompatibleQubits: 1\n",
      "DefinitionMatrix: [[{'Real': 1.0, 'Imaginary': 0.0, 'Magnitude': 1.0, 'Phase': 0.0}, {'Real': 0.0, 'Imaginary': 0.0, 'Magnitude': 0.0, 'Phase': 0.0}], [{'Real': 0.0, 'Imaginary': 0.0, 'Magnitude': 0.0, 'Phase': 0.0}, {'Real': 1.0, 'Imaginary': 0.0, 'Magnitude': 1.0, 'Phase': 0.0}]]\n",
      "}\n",
      "CircuitPosition  (5, 1)\n",
      "SlaveGatesIDs None\n",
      "MasterGateID -1\n",
      "OrderInPlacement 0\n",
      "ID: 11\n",
      "\n",
      "\n",
      "Moment[6]:\n",
      "IsGateVisible False\n",
      "gate{ \n",
      "ID: 5\n",
      "Name: I\n",
      "Type: 0\n",
      "IconPath: Artwork/GatesIcons/IGate\n",
      "CompatibleQubits: 1\n",
      "DefinitionMatrix: [[{'Real': 1.0, 'Imaginary': 0.0, 'Magnitude': 1.0, 'Phase': 0.0}, {'Real': 0.0, 'Imaginary': 0.0, 'Magnitude': 0.0, 'Phase': 0.0}], [{'Real': 0.0, 'Imaginary': 0.0, 'Magnitude': 0.0, 'Phase': 0.0}, {'Real': 1.0, 'Imaginary': 0.0, 'Magnitude': 1.0, 'Phase': 0.0}]]\n",
      "}\n",
      "CircuitPosition  (6, 0)\n",
      "SlaveGatesIDs None\n",
      "MasterGateID -1\n",
      "OrderInPlacement 0\n",
      "ID: 12\n",
      "\n",
      "\n",
      "IsGateVisible False\n",
      "gate{ \n",
      "ID: 5\n",
      "Name: I\n",
      "Type: 0\n",
      "IconPath: Artwork/GatesIcons/IGate\n",
      "CompatibleQubits: 1\n",
      "DefinitionMatrix: [[{'Real': 1.0, 'Imaginary': 0.0, 'Magnitude': 1.0, 'Phase': 0.0}, {'Real': 0.0, 'Imaginary': 0.0, 'Magnitude': 0.0, 'Phase': 0.0}], [{'Real': 0.0, 'Imaginary': 0.0, 'Magnitude': 0.0, 'Phase': 0.0}, {'Real': 1.0, 'Imaginary': 0.0, 'Magnitude': 1.0, 'Phase': 0.0}]]\n",
      "}\n",
      "CircuitPosition  (6, 1)\n",
      "SlaveGatesIDs None\n",
      "MasterGateID -1\n",
      "OrderInPlacement 0\n",
      "ID: 13\n",
      "\n",
      "\n"
     ]
    }
   ],
   "source": [
    "print(\"PuzzleGateSlots:\\n\")\n",
    "\n",
    "for i in range(len(test_puzzzle.PuzzleGateSlots)):\n",
    "    moment=int(i/test_puzzzle.PuzzleDefinition.QubitCapacity)\n",
    "    if (i%test_puzzzle.PuzzleDefinition.QubitCapacity==0):\n",
    "        print(f\"Moment[{moment}]:\")\n",
    "    slot =  test_puzzzle.PuzzleGateSlots[i]\n",
    "    slot.print_info()\n",
    "    "
   ]
  },
  {
   "cell_type": "code",
   "execution_count": 13,
   "id": "4a9667ad",
   "metadata": {},
   "outputs": [
    {
     "data": {
      "text/plain": [
       "{'PuzzleDefinition': <project_qsiris.qiskit_qo_class.PuzzleDefinition at 0x7fa030272e10>,\n",
       " 'Tooltips': [],\n",
       " 'AvailableGates': [<project_qsiris.conversion_gates2.GateDefinition at 0x7fa0126541d0>,\n",
       "  <project_qsiris.conversion_gates2.GateDefinition at 0x7fa012654110>,\n",
       "  <project_qsiris.conversion_gates2.GateDefinition at 0x7fa0126540d0>,\n",
       "  <project_qsiris.conversion_gates2.GateDefinition at 0x7fa012654090>,\n",
       "  <project_qsiris.conversion_gates2.GateDefinition at 0x7fa012654190>],\n",
       " 'PuzzleGateSlots': [<project_qsiris.conversion_gates2.Slot at 0x7fa0126a5910>,\n",
       "  <project_qsiris.conversion_gates2.Slot at 0x7fa0126a58d0>,\n",
       "  <project_qsiris.conversion_gates2.Slot at 0x7fa03024c550>,\n",
       "  <project_qsiris.conversion_gates2.Slot at 0x7fa03024c510>,\n",
       "  <project_qsiris.conversion_gates2.Slot at 0x7fa03024cd50>,\n",
       "  <project_qsiris.conversion_gates2.Slot at 0x7fa03024c790>,\n",
       "  <project_qsiris.conversion_gates2.Slot at 0x7fa03024c7d0>,\n",
       "  <project_qsiris.conversion_gates2.Slot at 0x7fa03024c090>,\n",
       "  <project_qsiris.conversion_gates2.Slot at 0x7fa03024c310>,\n",
       "  <project_qsiris.conversion_gates2.Slot at 0x7fa03024c410>,\n",
       "  <project_qsiris.conversion_gates2.Slot at 0x7fa0126a5bd0>,\n",
       "  <project_qsiris.conversion_gates2.Slot at 0x7fa0126a57d0>,\n",
       "  <project_qsiris.conversion_gates2.Slot at 0x7fa0126a5850>,\n",
       "  <project_qsiris.conversion_gates2.Slot at 0x7fa0126a5890>]}"
      ]
     },
     "execution_count": 13,
     "metadata": {},
     "output_type": "execute_result"
    }
   ],
   "source": [
    "test_puzzzle.__dict__"
   ]
  },
  {
   "cell_type": "code",
   "execution_count": 12,
   "id": "c35cdb1e",
   "metadata": {},
   "outputs": [
    {
     "ename": "TypeError",
     "evalue": "Object of type PuzzleDefinition is not JSON serializable",
     "output_type": "error",
     "traceback": [
      "\u001b[0;31m---------------------------------------------------------------------------\u001b[0m",
      "\u001b[0;31mTypeError\u001b[0m                                 Traceback (most recent call last)",
      "\u001b[0;32m<ipython-input-12-a2c7b471e710>\u001b[0m in \u001b[0;36m<module>\u001b[0;34m\u001b[0m\n\u001b[1;32m      1\u001b[0m \u001b[0;32mimport\u001b[0m \u001b[0mjson\u001b[0m\u001b[0;34m\u001b[0m\u001b[0;34m\u001b[0m\u001b[0m\n\u001b[1;32m      2\u001b[0m \u001b[0;34m\u001b[0m\u001b[0m\n\u001b[0;32m----> 3\u001b[0;31m \u001b[0mjsonStr\u001b[0m \u001b[0;34m=\u001b[0m \u001b[0mjson\u001b[0m\u001b[0;34m.\u001b[0m\u001b[0mdumps\u001b[0m\u001b[0;34m(\u001b[0m\u001b[0mtest_puzzzle\u001b[0m\u001b[0;34m.\u001b[0m\u001b[0m__dict__\u001b[0m\u001b[0;34m)\u001b[0m\u001b[0;34m\u001b[0m\u001b[0;34m\u001b[0m\u001b[0m\n\u001b[0m",
      "\u001b[0;32m~/opt/anaconda3/envs/qsiris/lib/python3.7/json/__init__.py\u001b[0m in \u001b[0;36mdumps\u001b[0;34m(obj, skipkeys, ensure_ascii, check_circular, allow_nan, cls, indent, separators, default, sort_keys, **kw)\u001b[0m\n\u001b[1;32m    229\u001b[0m         \u001b[0mcls\u001b[0m \u001b[0;32mis\u001b[0m \u001b[0;32mNone\u001b[0m \u001b[0;32mand\u001b[0m \u001b[0mindent\u001b[0m \u001b[0;32mis\u001b[0m \u001b[0;32mNone\u001b[0m \u001b[0;32mand\u001b[0m \u001b[0mseparators\u001b[0m \u001b[0;32mis\u001b[0m \u001b[0;32mNone\u001b[0m \u001b[0;32mand\u001b[0m\u001b[0;34m\u001b[0m\u001b[0;34m\u001b[0m\u001b[0m\n\u001b[1;32m    230\u001b[0m         default is None and not sort_keys and not kw):\n\u001b[0;32m--> 231\u001b[0;31m         \u001b[0;32mreturn\u001b[0m \u001b[0m_default_encoder\u001b[0m\u001b[0;34m.\u001b[0m\u001b[0mencode\u001b[0m\u001b[0;34m(\u001b[0m\u001b[0mobj\u001b[0m\u001b[0;34m)\u001b[0m\u001b[0;34m\u001b[0m\u001b[0;34m\u001b[0m\u001b[0m\n\u001b[0m\u001b[1;32m    232\u001b[0m     \u001b[0;32mif\u001b[0m \u001b[0mcls\u001b[0m \u001b[0;32mis\u001b[0m \u001b[0;32mNone\u001b[0m\u001b[0;34m:\u001b[0m\u001b[0;34m\u001b[0m\u001b[0;34m\u001b[0m\u001b[0m\n\u001b[1;32m    233\u001b[0m         \u001b[0mcls\u001b[0m \u001b[0;34m=\u001b[0m \u001b[0mJSONEncoder\u001b[0m\u001b[0;34m\u001b[0m\u001b[0;34m\u001b[0m\u001b[0m\n",
      "\u001b[0;32m~/opt/anaconda3/envs/qsiris/lib/python3.7/json/encoder.py\u001b[0m in \u001b[0;36mencode\u001b[0;34m(self, o)\u001b[0m\n\u001b[1;32m    197\u001b[0m         \u001b[0;31m# exceptions aren't as detailed.  The list call should be roughly\u001b[0m\u001b[0;34m\u001b[0m\u001b[0;34m\u001b[0m\u001b[0;34m\u001b[0m\u001b[0m\n\u001b[1;32m    198\u001b[0m         \u001b[0;31m# equivalent to the PySequence_Fast that ''.join() would do.\u001b[0m\u001b[0;34m\u001b[0m\u001b[0;34m\u001b[0m\u001b[0;34m\u001b[0m\u001b[0m\n\u001b[0;32m--> 199\u001b[0;31m         \u001b[0mchunks\u001b[0m \u001b[0;34m=\u001b[0m \u001b[0mself\u001b[0m\u001b[0;34m.\u001b[0m\u001b[0miterencode\u001b[0m\u001b[0;34m(\u001b[0m\u001b[0mo\u001b[0m\u001b[0;34m,\u001b[0m \u001b[0m_one_shot\u001b[0m\u001b[0;34m=\u001b[0m\u001b[0;32mTrue\u001b[0m\u001b[0;34m)\u001b[0m\u001b[0;34m\u001b[0m\u001b[0;34m\u001b[0m\u001b[0m\n\u001b[0m\u001b[1;32m    200\u001b[0m         \u001b[0;32mif\u001b[0m \u001b[0;32mnot\u001b[0m \u001b[0misinstance\u001b[0m\u001b[0;34m(\u001b[0m\u001b[0mchunks\u001b[0m\u001b[0;34m,\u001b[0m \u001b[0;34m(\u001b[0m\u001b[0mlist\u001b[0m\u001b[0;34m,\u001b[0m \u001b[0mtuple\u001b[0m\u001b[0;34m)\u001b[0m\u001b[0;34m)\u001b[0m\u001b[0;34m:\u001b[0m\u001b[0;34m\u001b[0m\u001b[0;34m\u001b[0m\u001b[0m\n\u001b[1;32m    201\u001b[0m             \u001b[0mchunks\u001b[0m \u001b[0;34m=\u001b[0m \u001b[0mlist\u001b[0m\u001b[0;34m(\u001b[0m\u001b[0mchunks\u001b[0m\u001b[0;34m)\u001b[0m\u001b[0;34m\u001b[0m\u001b[0;34m\u001b[0m\u001b[0m\n",
      "\u001b[0;32m~/opt/anaconda3/envs/qsiris/lib/python3.7/json/encoder.py\u001b[0m in \u001b[0;36miterencode\u001b[0;34m(self, o, _one_shot)\u001b[0m\n\u001b[1;32m    255\u001b[0m                 \u001b[0mself\u001b[0m\u001b[0;34m.\u001b[0m\u001b[0mkey_separator\u001b[0m\u001b[0;34m,\u001b[0m \u001b[0mself\u001b[0m\u001b[0;34m.\u001b[0m\u001b[0mitem_separator\u001b[0m\u001b[0;34m,\u001b[0m \u001b[0mself\u001b[0m\u001b[0;34m.\u001b[0m\u001b[0msort_keys\u001b[0m\u001b[0;34m,\u001b[0m\u001b[0;34m\u001b[0m\u001b[0;34m\u001b[0m\u001b[0m\n\u001b[1;32m    256\u001b[0m                 self.skipkeys, _one_shot)\n\u001b[0;32m--> 257\u001b[0;31m         \u001b[0;32mreturn\u001b[0m \u001b[0m_iterencode\u001b[0m\u001b[0;34m(\u001b[0m\u001b[0mo\u001b[0m\u001b[0;34m,\u001b[0m \u001b[0;36m0\u001b[0m\u001b[0;34m)\u001b[0m\u001b[0;34m\u001b[0m\u001b[0;34m\u001b[0m\u001b[0m\n\u001b[0m\u001b[1;32m    258\u001b[0m \u001b[0;34m\u001b[0m\u001b[0m\n\u001b[1;32m    259\u001b[0m def _make_iterencode(markers, _default, _encoder, _indent, _floatstr,\n",
      "\u001b[0;32m~/opt/anaconda3/envs/qsiris/lib/python3.7/json/encoder.py\u001b[0m in \u001b[0;36mdefault\u001b[0;34m(self, o)\u001b[0m\n\u001b[1;32m    177\u001b[0m \u001b[0;34m\u001b[0m\u001b[0m\n\u001b[1;32m    178\u001b[0m         \"\"\"\n\u001b[0;32m--> 179\u001b[0;31m         raise TypeError(f'Object of type {o.__class__.__name__} '\n\u001b[0m\u001b[1;32m    180\u001b[0m                         f'is not JSON serializable')\n\u001b[1;32m    181\u001b[0m \u001b[0;34m\u001b[0m\u001b[0m\n",
      "\u001b[0;31mTypeError\u001b[0m: Object of type PuzzleDefinition is not JSON serializable"
     ]
    }
   ],
   "source": [
    "import json\n",
    "\n",
    "jsonStr = json.dumps(test_puzzzle.__dict__)"
   ]
  },
  {
   "cell_type": "code",
   "execution_count": null,
   "id": "0fcf46df",
   "metadata": {},
   "outputs": [],
   "source": [
    "# This creates the QO puzzle out of your Qiskit circuit. \n",
    "# You can save it in two ways: General (as an actual puzzle to be solved) or Editor (to just visualize it in QO).\n",
    "puzzle = qiskit_to_odyssey(circuit, puzzle_type=\"General\")\n",
    "# The name of the puzzle (by default example_001). QO puzzles have extension .qpf\n",
    "save_odyssey_puzzle(puzzle, 'example_001' )"
   ]
  },
  {
   "cell_type": "markdown",
   "id": "6ca91a1c",
   "metadata": {},
   "source": [
    "### Example_002\n",
    "\n",
    "If you have more complex gates it would be better if you transpile your circuit first at least for the moment."
   ]
  },
  {
   "cell_type": "code",
   "execution_count": null,
   "id": "21db0971",
   "metadata": {},
   "outputs": [],
   "source": [
    "#Step 1: Build the circuit in Qiskit\n",
    "\n",
    "qreg_q = QuantumRegister(4,'q')\n",
    "circuit = QuantumCircuit(qreg_q)\n",
    "\n",
    "circuit.cx(qreg_q[1],qreg_q[2])\n",
    "\n",
    "circuit.h(qreg_q[1])\n",
    "circuit.z(qreg_q[3])\n",
    "circuit.u(np.pi/7,np.pi/3,np.pi/5,qreg_q[0])\n",
    "circuit.swap(qreg_q[0], qreg_q[3])\n",
    "\n",
    "circuit.draw('mpl')"
   ]
  },
  {
   "cell_type": "code",
   "execution_count": null,
   "id": "07c584c7",
   "metadata": {},
   "outputs": [],
   "source": [
    "#Step 2: Transpile your Qiskit circuit to simple gates to conversion avoid problems \n",
    "\n",
    "circuit = transpile(circuit, basis_gates=['id','u3', 'cx'], optimization_level=1, seed_transpiler=1) \n",
    "circuit.draw(output='mpl')"
   ]
  },
  {
   "cell_type": "code",
   "execution_count": null,
   "id": "0fb84788",
   "metadata": {},
   "outputs": [],
   "source": [
    "#Step 3: Convert your circuit in dictionary that represents a QO puzzle.\n",
    "puzzle=qiskit_to_odyssey(circuit, puzzle_type=\"General\")\n",
    "\n",
    "\n",
    "#Step 4: Save your puzzle \n",
    "save_odyssey_puzzle(puzzle, 'example_002' )"
   ]
  },
  {
   "cell_type": "markdown",
   "id": "86c3f145",
   "metadata": {},
   "source": [
    "### Example_003"
   ]
  },
  {
   "cell_type": "code",
   "execution_count": null,
   "id": "2bf14c2d",
   "metadata": {},
   "outputs": [],
   "source": [
    "circuit = QuantumCircuit(2,name='matchgate_2Q')\n",
    "\n",
    "circuit.cx(0,1)\n",
    "circuit.z(0)\n",
    "circuit.cry(np.pi/7,1,0)\n",
    "circuit.cx(0,1)\n",
    "\n",
    "circuit.draw('mpl')"
   ]
  },
  {
   "cell_type": "code",
   "execution_count": null,
   "id": "c1574376",
   "metadata": {},
   "outputs": [],
   "source": [
    "circuit = transpile(circuit, basis_gates=['id','u3', 'cx'], optimization_level=1, seed_transpiler=1) \n",
    "circuit.draw(output='mpl')"
   ]
  },
  {
   "cell_type": "code",
   "execution_count": null,
   "id": "2a1a497e",
   "metadata": {},
   "outputs": [],
   "source": [
    "puzzle = qiskit_to_odyssey(circuit)\n",
    "save_odyssey_puzzle(puzzle, 'example_003' )"
   ]
  },
  {
   "cell_type": "code",
   "execution_count": null,
   "id": "f274c56e",
   "metadata": {},
   "outputs": [],
   "source": [
    "# Let's see here how the default example_003 puzzle file will look like in Quantum Odyssey\n",
    "img_circuit = mpimg.imread('img/qiskit_circuit_to_QO.png')\n",
    "img_circuit_gate = mpimg.imread('img/qo_circuit_as_1gate.png')\n",
    "\n",
    "fig, ax = plt.subplots(1,2)\n",
    "ax[0].imshow(img_circuit);\n",
    "ax[1].imshow(img_circuit_gate);\n",
    "\n",
    "ax[0].set_title('Circuit in  QO')\n",
    "#Quantum Odyssey allows compilation of any number of logic gates in a single custom gate (right side bellow=left)\n",
    "ax[1].set_title('Circuit in QO as a gate')"
   ]
  },
  {
   "cell_type": "code",
   "execution_count": null,
   "id": "48f85db0",
   "metadata": {},
   "outputs": [],
   "source": [
    "#Here is how the QO puzzle file looks like, this is an example\n",
    "puzzle"
   ]
  },
  {
   "cell_type": "code",
   "execution_count": null,
   "id": "1f2201bd",
   "metadata": {},
   "outputs": [],
   "source": []
  },
  {
   "cell_type": "code",
   "execution_count": null,
   "id": "be738a99",
   "metadata": {},
   "outputs": [],
   "source": []
  }
 ],
 "metadata": {
  "kernelspec": {
   "display_name": "Python 3",
   "language": "python",
   "name": "python3"
  },
  "language_info": {
   "codemirror_mode": {
    "name": "ipython",
    "version": 3
   },
   "file_extension": ".py",
   "mimetype": "text/x-python",
   "name": "python",
   "nbconvert_exporter": "python",
   "pygments_lexer": "ipython3",
   "version": "3.7.10"
  }
 },
 "nbformat": 4,
 "nbformat_minor": 5
}
