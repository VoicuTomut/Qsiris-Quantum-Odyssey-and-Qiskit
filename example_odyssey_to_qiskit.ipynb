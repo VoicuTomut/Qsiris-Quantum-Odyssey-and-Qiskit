{
 "cells": [
  {
   "cell_type": "code",
   "execution_count": 1,
   "id": "bee15666",
   "metadata": {},
   "outputs": [],
   "source": [
    "import numpy as np \n",
    "import cmath \n",
    "\n",
    "from qiskit import QuantumCircuit, transpile\n",
    "from qiskit import Aer, execute\n",
    "from qiskit import IBMQ\n",
    "from qiskit.tools.monitor import job_monitor\n",
    "from qiskit.visualization import plot_histogram\n",
    "\n",
    "from project_qsiris.conversion_qo_qiskit import odyssey_to_qiskit,load_oddysey_puzzle"
   ]
  },
  {
   "cell_type": "code",
   "execution_count": 2,
   "id": "5d62e321",
   "metadata": {},
   "outputs": [],
   "source": [
    "#Enable this line if you plan to use IBM Q Experience and run these circuit on real IBM hw (and see results in IBMQ)\n",
    "#IBMQ.load_account()"
   ]
  },
  {
   "cell_type": "markdown",
   "id": "fb3eab68",
   "metadata": {},
   "source": [
    "## Templates (with filled examples) :"
   ]
  },
  {
   "cell_type": "markdown",
   "id": "75ad456b",
   "metadata": {},
   "source": [
    "### Example 001: steps to create a Qiskit circuit out of a QO puzzle (using example_002.qpf)"
   ]
  },
  {
   "cell_type": "code",
   "execution_count": 3,
   "id": "1ac3094d",
   "metadata": {},
   "outputs": [],
   "source": [
    "#Step 1: Read the QO puzzle file (has extension .qpf). \n",
    "#If you want to change the puzzle file, simply add the new path or puzzle in path= folder\n",
    "\n",
    "path = \"circuits/odyssey_circuits/X_CTRL_H.qpf\"\n",
    "puzzle = load_oddysey_puzzle(path)"
   ]
  },
  {
   "cell_type": "code",
   "execution_count": 4,
   "id": "acef46bf",
   "metadata": {},
   "outputs": [
    {
     "name": "stdout",
     "output_type": "stream",
     "text": [
      "[[ 1.        +0.j  0.        +0.j  0.        +0.j  0.        +0.j]\n",
      " [ 0.        +0.j  1.        +0.j  0.        +0.j  0.        +0.j]\n",
      " [ 0.        +0.j  0.        +0.j  0.70710679+0.j  0.70710679+0.j]\n",
      " [ 0.        +0.j  0.        +0.j  0.70710679+0.j -0.70710679+0.j]]\n",
      "control: [0]\n",
      "qubits: [1, 0]\n",
      "('c_0__H_1_',)\n"
     ]
    },
    {
     "ename": "AttributeError",
     "evalue": "'tuple' object has no attribute 'lower'",
     "output_type": "error",
     "traceback": [
      "\u001b[0;31m---------------------------------------------------------------------------\u001b[0m",
      "\u001b[0;31mAttributeError\u001b[0m                            Traceback (most recent call last)",
      "\u001b[0;32m<ipython-input-4-1e61d196102c>\u001b[0m in \u001b[0;36m<module>\u001b[0;34m\u001b[0m\n\u001b[1;32m      1\u001b[0m \u001b[0;31m#Step 2: convert your QO puzzle to a Qiskit circuit  and draw the mpl\u001b[0m\u001b[0;34m\u001b[0m\u001b[0;34m\u001b[0m\u001b[0;34m\u001b[0m\u001b[0m\n\u001b[1;32m      2\u001b[0m \u001b[0;34m\u001b[0m\u001b[0m\n\u001b[0;32m----> 3\u001b[0;31m qc = odyssey_to_qiskit(puzzle, incl_initial_state = False,\n\u001b[0m\u001b[1;32m      4\u001b[0m                       \u001b[0muse_barrier\u001b[0m \u001b[0;34m=\u001b[0m \u001b[0;32mFalse\u001b[0m\u001b[0;34m,\u001b[0m\u001b[0;34m\u001b[0m\u001b[0;34m\u001b[0m\u001b[0m\n\u001b[1;32m      5\u001b[0m                       incl_all_measurements = True)\n",
      "\u001b[0;32m~/Documents/GitHub/Qsiris-Quantum-Odyssey-and-Qiskit/project_qsiris/conversion_qo_qiskit.py\u001b[0m in \u001b[0;36modyssey_to_qiskit\u001b[0;34m(puzzle, incl_initial_state, use_barrier, incl_all_measurements)\u001b[0m\n\u001b[1;32m    153\u001b[0m         \u001b[0;32mif\u001b[0m \u001b[0muse_barrier\u001b[0m\u001b[0;34m:\u001b[0m\u001b[0;34m\u001b[0m\u001b[0;34m\u001b[0m\u001b[0m\n\u001b[1;32m    154\u001b[0m             \u001b[0mqc\u001b[0m\u001b[0;34m.\u001b[0m\u001b[0mbarrier\u001b[0m\u001b[0;34m(\u001b[0m\u001b[0;34m)\u001b[0m\u001b[0;34m\u001b[0m\u001b[0;34m\u001b[0m\u001b[0m\n\u001b[0;32m--> 155\u001b[0;31m         \u001b[0madd_odyssey_moment\u001b[0m\u001b[0;34m(\u001b[0m\u001b[0mpuzzle_gate\u001b[0m\u001b[0;34m,\u001b[0m \u001b[0mqc\u001b[0m\u001b[0;34m)\u001b[0m\u001b[0;34m\u001b[0m\u001b[0;34m\u001b[0m\u001b[0m\n\u001b[0m\u001b[1;32m    156\u001b[0m \u001b[0;34m\u001b[0m\u001b[0m\n\u001b[1;32m    157\u001b[0m     \u001b[0;32mif\u001b[0m \u001b[0mincl_all_measurements\u001b[0m\u001b[0;34m:\u001b[0m\u001b[0;34m\u001b[0m\u001b[0;34m\u001b[0m\u001b[0m\n",
      "\u001b[0;32m~/Documents/GitHub/Qsiris-Quantum-Odyssey-and-Qiskit/project_qsiris/conversion_qo_qiskit.py\u001b[0m in \u001b[0;36madd_odyssey_moment\u001b[0;34m(puzzle_gate, qc)\u001b[0m\n\u001b[1;32m    124\u001b[0m                 \u001b[0munit\u001b[0m\u001b[0;34m,\u001b[0m\u001b[0;34m\u001b[0m\u001b[0;34m\u001b[0m\u001b[0m\n\u001b[1;32m    125\u001b[0m                 \u001b[0mqubits\u001b[0m\u001b[0;34m[\u001b[0m\u001b[0;34m:\u001b[0m\u001b[0;34m:\u001b[0m\u001b[0;34m-\u001b[0m\u001b[0;36m1\u001b[0m\u001b[0;34m]\u001b[0m\u001b[0;34m,\u001b[0m\u001b[0;34m\u001b[0m\u001b[0;34m\u001b[0m\u001b[0m\n\u001b[0;32m--> 126\u001b[0;31m                 \u001b[0mname\u001b[0m\u001b[0;34m.\u001b[0m\u001b[0mlower\u001b[0m\u001b[0;34m(\u001b[0m\u001b[0;34m)\u001b[0m\u001b[0;34m,\u001b[0m\u001b[0;34m\u001b[0m\u001b[0;34m\u001b[0m\u001b[0m\n\u001b[0m\u001b[1;32m    127\u001b[0m             )\n\u001b[1;32m    128\u001b[0m \u001b[0;34m\u001b[0m\u001b[0m\n",
      "\u001b[0;31mAttributeError\u001b[0m: 'tuple' object has no attribute 'lower'"
     ]
    }
   ],
   "source": [
    "#Step 2: convert your QO puzzle to a Qiskit circuit  and draw the mpl\n",
    "\n",
    "qc = odyssey_to_qiskit(puzzle, incl_initial_state = False,\n",
    "                      use_barrier = False,\n",
    "                      incl_all_measurements = True)\n",
    "qc.draw('mpl')"
   ]
  },
  {
   "cell_type": "code",
   "execution_count": null,
   "id": "bc8ec713",
   "metadata": {},
   "outputs": [],
   "source": [
    "#Step 3: Run your puzzle on a qiskit simulator and plot counts\n",
    "\n",
    "backend = Aer.get_backend('qasm_simulator')\n",
    "job = execute(qc, backend,shots=1000)\n",
    "result = job.result()\n",
    "counts = result.get_counts()\n",
    "plot_histogram(counts)"
   ]
  },
  {
   "cell_type": "code",
   "execution_count": null,
   "id": "d933eb98",
   "metadata": {},
   "outputs": [],
   "source": [
    "print(qc.qasm)"
   ]
  },
  {
   "cell_type": "markdown",
   "id": "a7dc4721",
   "metadata": {},
   "source": [
    "### Now let's run the circuit on a real IBM device:"
   ]
  },
  {
   "cell_type": "code",
   "execution_count": null,
   "id": "95332e92",
   "metadata": {},
   "outputs": [],
   "source": [
    "#Step 4: Run your puzzle on a real QPU from IBM. You can customize the execution here.\n",
    "# It will take some time for the job to be executed\n",
    "\n",
    "provider = IBMQ.get_provider('ibm-q')\n",
    "ibm_QPU=provider.get_backend('ibmq_santiago')\n",
    "\n",
    "job=execute(qc, backend=ibm_QPU, shots=100)\n",
    "job_monitor(job,interval=10) "
   ]
  },
  {
   "cell_type": "code",
   "execution_count": null,
   "id": "d420d350",
   "metadata": {},
   "outputs": [],
   "source": [
    "result = job.result()\n",
    "counts = result.get_counts()\n",
    "plot_histogram(counts)"
   ]
  },
  {
   "cell_type": "markdown",
   "id": "987243d7",
   "metadata": {},
   "source": [
    "### Another example (similar to previous, different gates):"
   ]
  },
  {
   "cell_type": "code",
   "execution_count": null,
   "id": "55ba36f4",
   "metadata": {},
   "outputs": [],
   "source": [
    "path = \"circuits/odyssey_circuits/asdasd.qpf\""
   ]
  },
  {
   "cell_type": "code",
   "execution_count": null,
   "id": "e564cef9",
   "metadata": {},
   "outputs": [],
   "source": [
    "res = load_oddysey_puzzle(path)\n",
    "res.keys()"
   ]
  },
  {
   "cell_type": "code",
   "execution_count": null,
   "id": "dc40588a",
   "metadata": {},
   "outputs": [],
   "source": [
    "qc = odyssey_to_qiskit(res, incl_initial_state = False,\n",
    "                      use_barrier = False,\n",
    "                      incl_all_measurements = True)\n",
    "\n",
    "qc.draw('mpl')"
   ]
  },
  {
   "cell_type": "code",
   "execution_count": null,
   "id": "88b7526d",
   "metadata": {},
   "outputs": [],
   "source": [
    "backend = Aer.get_backend('qasm_simulator')\n",
    "job = execute(qc, backend,shots=1000)\n",
    "result = job.result()\n",
    "counts = result.get_counts()\n",
    "plot_histogram(counts)"
   ]
  },
  {
   "cell_type": "code",
   "execution_count": null,
   "id": "0fe01373",
   "metadata": {},
   "outputs": [],
   "source": [
    "backend = Aer.get_backend('qasm_simulator')\n",
    "result = transpile(qc, backend=backend, optimization_level=3)\n",
    "result.draw(output='mpl')"
   ]
  },
  {
   "cell_type": "code",
   "execution_count": null,
   "id": "b79a3abf",
   "metadata": {},
   "outputs": [],
   "source": [
    "# This runbook is for testing how much you can approximate decimals if Qiskit is still able to rec as unitary\n",
    "# It is important to have as many decimals as possible \n",
    "# Otherwise we can get unitary errors (even if we can introduce the gate in the circuit) .\n",
    "\n",
    "unit=[[ 1.+0.j,  0.+0.j,  0.+0.j,  0.+0.j],\n",
    "      [ 0.+0.j,  1.+0.j,  0.+0.j,  0.+0.j],\n",
    "      [ 0.+0.j,  0.+0.j,  0.70710679+0.j,  0.70710679+0.j],#np.sqrt(1/2)+0.j,  np.sqrt(1/2)+0.j],\n",
    "      [ 0.+0.j,  0.+0.j,  0.70710679+0.j, -0.70710679+0.j],]#np.sqrt(1/2)+0.j,  -np.sqrt(1/2)+0.j],]#0.70710679+0.j, -0.70710679+0.j],]\n",
    "\n",
    "\n",
    "qc=QuantumCircuit(2)\n",
    "qc.unitary(unit,[0,1])\n",
    "qc.draw()"
   ]
  },
  {
   "cell_type": "code",
   "execution_count": null,
   "id": "67ef8d2d",
   "metadata": {},
   "outputs": [],
   "source": [
    "print(qc.qasm())"
   ]
  },
  {
   "cell_type": "code",
   "execution_count": null,
   "id": "7c7c29cd",
   "metadata": {},
   "outputs": [],
   "source": []
  }
 ],
 "metadata": {
  "kernelspec": {
   "display_name": "Python 3",
   "language": "python",
   "name": "python3"
  },
  "language_info": {
   "codemirror_mode": {
    "name": "ipython",
    "version": 3
   },
   "file_extension": ".py",
   "mimetype": "text/x-python",
   "name": "python",
   "nbconvert_exporter": "python",
   "pygments_lexer": "ipython3",
   "version": "3.8.8"
  }
 },
 "nbformat": 4,
 "nbformat_minor": 5
}
