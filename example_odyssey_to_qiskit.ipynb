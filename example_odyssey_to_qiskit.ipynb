{
 "cells": [
  {
   "cell_type": "code",
   "execution_count": 1,
   "id": "bee15666",
   "metadata": {},
   "outputs": [
    {
     "name": "stdout",
     "output_type": "stream",
     "text": [
      "vec: [1.0, 0.0]\n",
      "vec: [0.0, 1.0]\n",
      "vec: [0.0, 1.0]\n",
      "vec: [1.0, 0.0]\n",
      "vec: [0.0, -1j]\n",
      "vec: [1j, 0.0]\n",
      "vec: [1.0, 0.0]\n",
      "vec: [0.0, -1.0]\n",
      "vec: [1.0, 0.0]\n",
      "vec: [0.0, 1.0]\n",
      "vec: [0.0, 0.0]\n",
      "vec: [0.0, 1.0]\n",
      "vec: [0.7071067811865475, 0.7071067811865475]\n",
      "vec: [0.7071067811865475, -0.7071067811865475]\n"
     ]
    }
   ],
   "source": [
    "import numpy as np \n",
    "import cmath \n",
    "\n",
    "from qiskit import QuantumCircuit, transpile\n",
    "from qiskit import Aer, execute\n",
    "from qiskit import IBMQ\n",
    "from qiskit.tools.monitor import job_monitor\n",
    "from qiskit.visualization import plot_histogram\n",
    "\n",
    "from project_qsiris.conversion_qo_qiskit import odyssey_to_qiskit,load_oddysey_puzzle"
   ]
  },
  {
   "cell_type": "code",
   "execution_count": 2,
   "id": "5d62e321",
   "metadata": {},
   "outputs": [],
   "source": [
    "#Enable this line if you plan to use IBM Q Experience and run these circuit on real IBM hw (and see results in IBMQ)\n",
    "#IBMQ.load_account()"
   ]
  },
  {
   "cell_type": "markdown",
   "id": "fb3eab68",
   "metadata": {},
   "source": [
    "## Templates (with filled examples) :"
   ]
  },
  {
   "cell_type": "markdown",
   "id": "75ad456b",
   "metadata": {},
   "source": [
    "### Example 001: steps to create a Qiskit circuit out of a QO puzzle (using example_002.qpf)"
   ]
  },
  {
   "cell_type": "code",
   "execution_count": 3,
   "id": "1ac3094d",
   "metadata": {},
   "outputs": [],
   "source": [
    "#Step 1: Read the QO puzzle file (has extension .qpf). \n",
    "#If you want to change the puzzle file, simply add the new path or puzzle in path= folder\n",
    "\n",
    "path = \"/Users/voicutu/Documents/GitHub/Qsiris-Quantum-Odyssey-and-Qiskit/circuits/odyssey_circuits/aaa_qo.qpf\"\n",
    "puzzle = load_oddysey_puzzle(path)"
   ]
  },
  {
   "cell_type": "code",
   "execution_count": 4,
   "id": "d2647e86",
   "metadata": {},
   "outputs": [
    {
     "data": {
      "text/plain": [
       "{'IsGateVisible': False,\n",
       " 'GateDefinition': {'ID': 0,\n",
       "  'Name': 'H',\n",
       "  'Type': 2,\n",
       "  'IconPath': 'Artwork/GatesIcons/HGate',\n",
       "  'CompatibleQubits': 1,\n",
       "  'DefinitionMatrix': [[{'Real': 0.7071067932881648,\n",
       "     'Imaginary': 0.0,\n",
       "     'Magnitude': 0.7071067932881648,\n",
       "     'Phase': 0.0},\n",
       "    {'Real': 0.7071067932881648,\n",
       "     'Imaginary': 0.0,\n",
       "     'Magnitude': 0.7071067932881648,\n",
       "     'Phase': 0.0}],\n",
       "   [{'Real': 0.7071067932881648,\n",
       "     'Imaginary': 0.0,\n",
       "     'Magnitude': 0.7071067932881648,\n",
       "     'Phase': 0.0},\n",
       "    {'Real': -0.7071067932881648,\n",
       "     'Imaginary': 0.0,\n",
       "     'Magnitude': 0.7071067932881648,\n",
       "     'Phase': 3.141592653589793}]]},\n",
       " 'CircuitPosition': {'Item1': 0, 'Item2': 0},\n",
       " 'SlaveGatesIDs': [],\n",
       " 'MasterGateID': 0,\n",
       " 'OrderInPlacement': 0,\n",
       " 'ID': 1}"
      ]
     },
     "execution_count": 4,
     "metadata": {},
     "output_type": "execute_result"
    }
   ],
   "source": [
    "puzzle['PuzzleGateSlots'][0]"
   ]
  },
  {
   "cell_type": "code",
   "execution_count": 5,
   "id": "f24a804f",
   "metadata": {},
   "outputs": [
    {
     "data": {
      "text/plain": [
       "[{'IsGateVisible': False,\n",
       "  'GateDefinition': {'ID': 0,\n",
       "   'Name': 'H',\n",
       "   'Type': 2,\n",
       "   'IconPath': 'Artwork/GatesIcons/HGate',\n",
       "   'CompatibleQubits': 1,\n",
       "   'DefinitionMatrix': [[{'Real': 0.7071067932881648,\n",
       "      'Imaginary': 0.0,\n",
       "      'Magnitude': 0.7071067932881648,\n",
       "      'Phase': 0.0},\n",
       "     {'Real': 0.7071067932881648,\n",
       "      'Imaginary': 0.0,\n",
       "      'Magnitude': 0.7071067932881648,\n",
       "      'Phase': 0.0}],\n",
       "    [{'Real': 0.7071067932881648,\n",
       "      'Imaginary': 0.0,\n",
       "      'Magnitude': 0.7071067932881648,\n",
       "      'Phase': 0.0},\n",
       "     {'Real': -0.7071067932881648,\n",
       "      'Imaginary': 0.0,\n",
       "      'Magnitude': 0.7071067932881648,\n",
       "      'Phase': 3.141592653589793}]]},\n",
       "  'CircuitPosition': {'Item1': 0, 'Item2': 0},\n",
       "  'SlaveGatesIDs': [],\n",
       "  'MasterGateID': 0,\n",
       "  'OrderInPlacement': 0,\n",
       "  'ID': 1},\n",
       " {'IsGateVisible': False,\n",
       "  'GateDefinition': {'ID': 5,\n",
       "   'Name': 'I',\n",
       "   'Type': 0,\n",
       "   'IconPath': 'Artwork/GatesIcons/IGate',\n",
       "   'CompatibleQubits': 1,\n",
       "   'DefinitionMatrix': [[{'Real': 1.0,\n",
       "      'Imaginary': 0.0,\n",
       "      'Magnitude': 1.0,\n",
       "      'Phase': 0.0},\n",
       "     {'Real': 0.0, 'Imaginary': 0.0, 'Magnitude': 0.0, 'Phase': 0.0}],\n",
       "    [{'Real': 0.0, 'Imaginary': 0.0, 'Magnitude': 0.0, 'Phase': 0.0},\n",
       "     {'Real': 1.0, 'Imaginary': 0.0, 'Magnitude': 1.0, 'Phase': 0.0}]]},\n",
       "  'CircuitPosition': {'Item1': 1, 'Item2': 0},\n",
       "  'SlaveGatesIDs': [],\n",
       "  'MasterGateID': 0,\n",
       "  'OrderInPlacement': 0,\n",
       "  'ID': 4},\n",
       " {'IsGateVisible': False,\n",
       "  'GateDefinition': {'ID': 3,\n",
       "   'Name': 'X',\n",
       "   'Type': 3,\n",
       "   'IconPath': 'Artwork/GatesIcons/XGate',\n",
       "   'CompatibleQubits': 1,\n",
       "   'DefinitionMatrix': [[{'Real': 0.0,\n",
       "      'Imaginary': 0.0,\n",
       "      'Magnitude': 0.0,\n",
       "      'Phase': 0.0},\n",
       "     {'Real': 1.0, 'Imaginary': 0.0, 'Magnitude': 1.0, 'Phase': 0.0}],\n",
       "    [{'Real': 1.0, 'Imaginary': 0.0, 'Magnitude': 1.0, 'Phase': 0.0},\n",
       "     {'Real': 0.0, 'Imaginary': 0.0, 'Magnitude': 0.0, 'Phase': 0.0}]]},\n",
       "  'CircuitPosition': {'Item1': 2, 'Item2': 0},\n",
       "  'SlaveGatesIDs': [],\n",
       "  'MasterGateID': 0,\n",
       "  'OrderInPlacement': 0,\n",
       "  'ID': 7}]"
      ]
     },
     "execution_count": 5,
     "metadata": {},
     "output_type": "execute_result"
    }
   ],
   "source": [
    "puzzle['PuzzleGateSlots']"
   ]
  },
  {
   "cell_type": "code",
   "execution_count": 6,
   "id": "acef46bf",
   "metadata": {},
   "outputs": [
    {
     "data": {
      "image/png": "[encoded data removed]",
      "text/plain": [
       "<Figure size 340.378x264.88 with 1 Axes>"
      ]
     },
     "execution_count": 6,
     "metadata": {},
     "output_type": "execute_result"
    }
   ],
   "source": [
    "#Step 2: convert your QO puzzle to a Qiskit circuit  and draw the mpl\n",
    "\n",
    "qc = odyssey_to_qiskit(puzzle, incl_initial_state = False,\n",
    "                      use_barrier = False,\n",
    "                      incl_all_measurements = True)\n",
    "qc.draw('mpl')"
   ]
  },
  {
   "cell_type": "code",
   "execution_count": 7,
   "id": "bc8ec713",
   "metadata": {},
   "outputs": [
    {
     "data": {
      "image/png": "[encoded data removed]",
      "text/plain": [
       "<Figure size 504x360 with 1 Axes>"
      ]
     },
     "execution_count": 7,
     "metadata": {},
     "output_type": "execute_result"
    }
   ],
   "source": [
    "#Step 3: Run your puzzle on a qiskit simulator and plot counts\n",
    "\n",
    "backend = Aer.get_backend('qasm_simulator')\n",
    "job = execute(qc, backend,shots=1000)\n",
    "result = job.result()\n",
    "counts = result.get_counts()\n",
    "plot_histogram(counts)"
   ]
  },
  {
   "cell_type": "markdown",
   "id": "a7dc4721",
   "metadata": {},
   "source": [
    "### Now let's run the circuit on a real IBM device:"
   ]
  },
  {
   "cell_type": "code",
   "execution_count": null,
   "id": "95332e92",
   "metadata": {},
   "outputs": [],
   "source": [
    "#Step 4: Run your puzzle on a real QPU from IBM. You can customize the execution here.\n",
    "# It will take some time for the job to be executed\n",
    "\n",
    "provider = IBMQ.get_provider('ibm-q')\n",
    "ibm_QPU=provider.get_backend('ibmq_santiago')\n",
    "\n",
    "job=execute(qc, backend=ibm_QPU, shots=100)\n",
    "job_monitor(job,interval=10) "
   ]
  },
  {
   "cell_type": "code",
   "execution_count": null,
   "id": "d420d350",
   "metadata": {},
   "outputs": [],
   "source": [
    "result = job.result()\n",
    "counts = result.get_counts()\n",
    "plot_histogram(counts)"
   ]
  },
  {
   "cell_type": "markdown",
   "id": "987243d7",
   "metadata": {},
   "source": [
    "### Another example (similar to previous, different gates):"
   ]
  },
  {
   "cell_type": "code",
   "execution_count": null,
   "id": "55ba36f4",
   "metadata": {},
   "outputs": [],
   "source": [
    "path = \"circuits/odyssey_circuits/asdasd.qpf\""
   ]
  },
  {
   "cell_type": "code",
   "execution_count": null,
   "id": "e564cef9",
   "metadata": {},
   "outputs": [],
   "source": [
    "res = load_oddysey_puzzle(path)\n",
    "res.keys()"
   ]
  },
  {
   "cell_type": "code",
   "execution_count": null,
   "id": "6837f140",
   "metadata": {},
   "outputs": [],
   "source": [
    "puzzle['PuzzleGateSlots'][1]"
   ]
  },
  {
   "cell_type": "code",
   "execution_count": null,
   "id": "b3449f84",
   "metadata": {},
   "outputs": [],
   "source": [
    "a[0][0]"
   ]
  },
  {
   "cell_type": "code",
   "execution_count": null,
   "id": "ecf46979",
   "metadata": {},
   "outputs": [],
   "source": [
    "res['PuzzleGates'][0]"
   ]
  },
  {
   "cell_type": "code",
   "execution_count": null,
   "id": "dc40588a",
   "metadata": {},
   "outputs": [],
   "source": [
    "qc = odyssey_to_qiskit(res, incl_initial_state = False,\n",
    "                      use_barrier = False,\n",
    "                      incl_all_measurements = True)\n",
    "\n",
    "qc.draw('mpl')"
   ]
  },
  {
   "cell_type": "code",
   "execution_count": null,
   "id": "88b7526d",
   "metadata": {},
   "outputs": [],
   "source": [
    "backend = Aer.get_backend('qasm_simulator')\n",
    "job = execute(qc, backend,shots=1000)\n",
    "result = job.result()\n",
    "counts = result.get_counts()\n",
    "plot_histogram(counts)"
   ]
  },
  {
   "cell_type": "code",
   "execution_count": null,
   "id": "0fe01373",
   "metadata": {},
   "outputs": [],
   "source": [
    "backend = Aer.get_backend('qasm_simulator')\n",
    "result = transpile(qc, backend=backend, optimization_level=3)\n",
    "result.draw(output='mpl')"
   ]
  },
  {
   "cell_type": "code",
   "execution_count": null,
   "id": "b79a3abf",
   "metadata": {},
   "outputs": [],
   "source": [
    "# This runbook is for testing how much you can approximate decimals if Qiskit is still able to rec as unitary\n",
    "# It is important to have as many decimals as possible \n",
    "# Otherwise we can get unitary errors (even if we can introduce the gate in the circuit) .\n",
    "\n",
    "unit=[[ 1.+0.j,  0.+0.j,  0.+0.j,  0.+0.j],\n",
    "      [ 0.+0.j,  1.+0.j,  0.+0.j,  0.+0.j],\n",
    "      [ 0.+0.j,  0.+0.j,  0.70710679+0.j,  0.70710679+0.j],#np.sqrt(1/2)+0.j,  np.sqrt(1/2)+0.j],\n",
    "      [ 0.+0.j,  0.+0.j,  0.70710679+0.j, -0.70710679+0.j],]#np.sqrt(1/2)+0.j,  -np.sqrt(1/2)+0.j],]#0.70710679+0.j, -0.70710679+0.j],]\n",
    "\n",
    "\n",
    "qc=QuantumCircuit(2)\n",
    "qc.unitary(unit,[0,1])\n",
    "qc.draw()"
   ]
  },
  {
   "cell_type": "code",
   "execution_count": null,
   "id": "67ef8d2d",
   "metadata": {},
   "outputs": [],
   "source": [
    "print(qc.qasm())"
   ]
  },
  {
   "cell_type": "code",
   "execution_count": null,
   "id": "7c7c29cd",
   "metadata": {},
   "outputs": [],
   "source": []
  }
 ],
 "metadata": {
  "kernelspec": {
   "display_name": "Python 3",
   "language": "python",
   "name": "python3"
  },
  "language_info": {
   "codemirror_mode": {
    "name": "ipython",
    "version": 3
   },
   "file_extension": ".py",
   "mimetype": "text/x-python",
   "name": "python",
   "nbconvert_exporter": "python",
   "pygments_lexer": "ipython3",
   "version": "3.7.10"
  }
 },
 "nbformat": 4,
 "nbformat_minor": 5
}
